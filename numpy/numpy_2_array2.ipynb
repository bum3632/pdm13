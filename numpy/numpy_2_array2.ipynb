{
  "nbformat": 4,
  "nbformat_minor": 0,
  "metadata": {
    "colab": {
      "name": "numpy_2_array2.ipynb",
      "provenance": [],
      "collapsed_sections": [],
      "include_colab_link": true
    },
    "kernelspec": {
      "name": "python3",
      "display_name": "Python 3"
    }
  },
  "cells": [
    {
      "cell_type": "markdown",
      "metadata": {
        "id": "view-in-github",
        "colab_type": "text"
      },
      "source": [
        "<a href=\"https://colab.research.google.com/github/bum3632/pdm13/blob/main/numpy/numpy_2_array2.ipynb\" target=\"_parent\"><img src=\"https://colab.research.google.com/assets/colab-badge.svg\" alt=\"Open In Colab\"/></a>"
      ]
    },
    {
      "cell_type": "markdown",
      "metadata": {
        "id": "_zrirXHfgmyY"
      },
      "source": [
        "# numpy\n",
        "## concatenate()를 이용한 배열 결합\n",
        "> [numpy 배열 합치기, concatenate 함수](https://m.blog.naver.com/PostView.nhn?blogId=qbxlvnf11&logNo=221490583222&categoryNo=0&proxyReferer=https%3A%2F%2Fwww.google.com%2F)"
      ]
    },
    {
      "cell_type": "code",
      "metadata": {
        "id": "CDwOGQJ49LE3"
      },
      "source": [
        "import numpy as np"
      ],
      "execution_count": 1,
      "outputs": []
    },
    {
      "cell_type": "code",
      "metadata": {
        "id": "AJyEO89Y9bwx",
        "colab": {
          "base_uri": "https://localhost:8080/"
        },
        "outputId": "7ae9fef0-457c-40d9-8663-a9a6ba967f71"
      },
      "source": [
        "ar1 = np.array(range(1,5)).reshape(2,2) # 1,2,3,4를 배열로 바꾼뒤에 (2,2) 형태로 바꾼다는 뜻\n",
        "ar1"
      ],
      "execution_count": 2,
      "outputs": [
        {
          "output_type": "execute_result",
          "data": {
            "text/plain": [
              "array([[1, 2],\n",
              "       [3, 4]])"
            ]
          },
          "metadata": {},
          "execution_count": 2
        }
      ]
    },
    {
      "cell_type": "code",
      "metadata": {
        "id": "ZihwnXV4-yOt"
      },
      "source": [
        "ar1.shape"
      ],
      "execution_count": null,
      "outputs": []
    },
    {
      "cell_type": "code",
      "metadata": {
        "colab": {
          "base_uri": "https://localhost:8080/"
        },
        "id": "H-yN82j8ocCY",
        "outputId": "e5899aea-4370-494a-e987-e6136a04c587"
      },
      "source": [
        "np.array(range(5,11))"
      ],
      "execution_count": 4,
      "outputs": [
        {
          "output_type": "execute_result",
          "data": {
            "text/plain": [
              "array([ 5,  6,  7,  8,  9, 10])"
            ]
          },
          "metadata": {},
          "execution_count": 4
        }
      ]
    },
    {
      "cell_type": "code",
      "metadata": {
        "id": "ZzFyvMlgeIGQ",
        "colab": {
          "base_uri": "https://localhost:8080/"
        },
        "outputId": "8d3c0552-9e48-434b-e51a-89bd9631565c"
      },
      "source": [
        "ar2 = np.array(range(5,11)).reshape(2,3)  # np.array(range(5,11)).reshape(-1,3)\n",
        "ar2"
      ],
      "execution_count": 6,
      "outputs": [
        {
          "output_type": "execute_result",
          "data": {
            "text/plain": [
              "array([[ 5,  6,  7],\n",
              "       [ 8,  9, 10]])"
            ]
          },
          "metadata": {},
          "execution_count": 6
        }
      ]
    },
    {
      "cell_type": "code",
      "metadata": {
        "id": "w-1gGrBueSqI",
        "colab": {
          "base_uri": "https://localhost:8080/"
        },
        "outputId": "b59474ff-0945-4035-edd5-aaeae24095f8"
      },
      "source": [
        "ar2.shape  # 2 X 3 array"
      ],
      "execution_count": 7,
      "outputs": [
        {
          "output_type": "execute_result",
          "data": {
            "text/plain": [
              "(2, 3)"
            ]
          },
          "metadata": {},
          "execution_count": 7
        }
      ]
    },
    {
      "cell_type": "markdown",
      "metadata": {
        "id": "WadjyZoblwVM"
      },
      "source": [
        "---"
      ]
    },
    {
      "cell_type": "code",
      "metadata": {
        "colab": {
          "base_uri": "https://localhost:8080/"
        },
        "id": "DSPqLr-eouk-",
        "outputId": "94894af2-83d4-4bbc-fead-222f7cefbfdb"
      },
      "source": [
        "ar1,ar2"
      ],
      "execution_count": 8,
      "outputs": [
        {
          "output_type": "execute_result",
          "data": {
            "text/plain": [
              "(array([[1, 2],\n",
              "        [3, 4]]), array([[ 5,  6,  7],\n",
              "        [ 8,  9, 10]]))"
            ]
          },
          "metadata": {},
          "execution_count": 8
        }
      ]
    },
    {
      "cell_type": "code",
      "metadata": {
        "colab": {
          "base_uri": "https://localhost:8080/"
        },
        "id": "uBimz764o4Vl",
        "outputId": "8ac1e577-c9d8-4a5c-de95-c21c890f45c4"
      },
      "source": [
        "print(ar1)\n",
        "print(ar2)"
      ],
      "execution_count": 9,
      "outputs": [
        {
          "output_type": "stream",
          "name": "stdout",
          "text": [
            "[[1 2]\n",
            " [3 4]]\n",
            "[[ 5  6  7]\n",
            " [ 8  9 10]]\n"
          ]
        }
      ]
    },
    {
      "cell_type": "markdown",
      "metadata": {
        "id": "-RUqNH1jefLd"
      },
      "source": [
        "## concatenate()를 이용한 배열 합치기\n"
      ]
    },
    {
      "cell_type": "markdown",
      "metadata": {
        "id": "-rMO4Jzwfqnw"
      },
      "source": [
        "- concatenate(array1, array2, axis = 0)\n",
        "- concatenate(array1, array2, axis = 1)\n",
        "- concatenate(array1, array2, axis = None)"
      ]
    },
    {
      "cell_type": "code",
      "metadata": {
        "id": "Ib68XISkeW34",
        "colab": {
          "base_uri": "https://localhost:8080/"
        },
        "outputId": "ad6dff74-53a1-4843-81c2-0864b38f7c01"
      },
      "source": [
        "np.concatenate((ar1,ar1), axis=0) #합치고자하는 배열이 튜플로 묶여있다. 엑시스값이 0이므로 행 단위로 출력된다."
      ],
      "execution_count": 10,
      "outputs": [
        {
          "output_type": "execute_result",
          "data": {
            "text/plain": [
              "array([[1, 2],\n",
              "       [3, 4],\n",
              "       [1, 2],\n",
              "       [3, 4]])"
            ]
          },
          "metadata": {},
          "execution_count": 10
        }
      ]
    },
    {
      "cell_type": "code",
      "metadata": {
        "colab": {
          "base_uri": "https://localhost:8080/"
        },
        "id": "a9nhtGGCpdjd",
        "outputId": "eda1cc04-6f5c-44cb-b82b-b1b8a0968a94"
      },
      "source": [
        "np.concatenate((ar1,ar1,ar1), axis=0)"
      ],
      "execution_count": 11,
      "outputs": [
        {
          "output_type": "execute_result",
          "data": {
            "text/plain": [
              "array([[1, 2],\n",
              "       [3, 4],\n",
              "       [1, 2],\n",
              "       [3, 4],\n",
              "       [1, 2],\n",
              "       [3, 4]])"
            ]
          },
          "metadata": {},
          "execution_count": 11
        }
      ]
    },
    {
      "cell_type": "code",
      "metadata": {
        "id": "peJO0eQiezng",
        "colab": {
          "base_uri": "https://localhost:8080/"
        },
        "outputId": "7cdc833a-e82f-4f06-b082-fcb6cc1017e5"
      },
      "source": [
        "np.concatenate((ar1,ar1), axis=1) #axis 1이므로 가로로 출력된다."
      ],
      "execution_count": 12,
      "outputs": [
        {
          "output_type": "execute_result",
          "data": {
            "text/plain": [
              "array([[1, 2, 1, 2],\n",
              "       [3, 4, 3, 4]])"
            ]
          },
          "metadata": {},
          "execution_count": 12
        }
      ]
    },
    {
      "cell_type": "code",
      "metadata": {
        "id": "HV9kfBoGf_29",
        "colab": {
          "base_uri": "https://localhost:8080/"
        },
        "outputId": "ef94b19a-aa97-423b-b489-2ee37f74d2a8"
      },
      "source": [
        "np.concatenate((ar1,ar1), axis=None)"
      ],
      "execution_count": 13,
      "outputs": [
        {
          "output_type": "execute_result",
          "data": {
            "text/plain": [
              "array([1, 2, 3, 4, 1, 2, 3, 4])"
            ]
          },
          "metadata": {},
          "execution_count": 13
        }
      ]
    },
    {
      "cell_type": "markdown",
      "metadata": {
        "id": "hGAJVGgeKkiI"
      },
      "source": [
        "### ar2에 대하여도 배열합치기를 해보시오."
      ]
    },
    {
      "cell_type": "code",
      "metadata": {
        "id": "Ee9pMFym4Ne7",
        "colab": {
          "base_uri": "https://localhost:8080/"
        },
        "outputId": "7e8cd5a1-4301-4c9a-b71d-bd89cb35d4a1"
      },
      "source": [
        "# Your code here!\n",
        "np.concatenate((ar2,ar2), axis=0)\n"
      ],
      "execution_count": 14,
      "outputs": [
        {
          "output_type": "execute_result",
          "data": {
            "text/plain": [
              "array([[ 5,  6,  7],\n",
              "       [ 8,  9, 10],\n",
              "       [ 5,  6,  7],\n",
              "       [ 8,  9, 10]])"
            ]
          },
          "metadata": {},
          "execution_count": 14
        }
      ]
    },
    {
      "cell_type": "code",
      "metadata": {
        "colab": {
          "base_uri": "https://localhost:8080/"
        },
        "id": "9XWhWFMFqBgE",
        "outputId": "969454c4-2e99-47d5-866b-b995d7e3cddb"
      },
      "source": [
        "np.concatenate((ar2,ar2), axis=1)"
      ],
      "execution_count": 15,
      "outputs": [
        {
          "output_type": "execute_result",
          "data": {
            "text/plain": [
              "array([[ 5,  6,  7,  5,  6,  7],\n",
              "       [ 8,  9, 10,  8,  9, 10]])"
            ]
          },
          "metadata": {},
          "execution_count": 15
        }
      ]
    },
    {
      "cell_type": "code",
      "metadata": {
        "colab": {
          "base_uri": "https://localhost:8080/"
        },
        "id": "mLr7t1mhqEg7",
        "outputId": "291ead41-f10d-4e97-ab3c-01cf4a994c08"
      },
      "source": [
        "np.concatenate((ar2,ar2), axis=None)"
      ],
      "execution_count": 16,
      "outputs": [
        {
          "output_type": "execute_result",
          "data": {
            "text/plain": [
              "array([ 5,  6,  7,  8,  9, 10,  5,  6,  7,  8,  9, 10])"
            ]
          },
          "metadata": {},
          "execution_count": 16
        }
      ]
    },
    {
      "cell_type": "markdown",
      "metadata": {
        "id": "Hl_PgVdzgEAA"
      },
      "source": [
        "### Error in concatenation"
      ]
    },
    {
      "cell_type": "code",
      "metadata": {
        "id": "wdhuj5Vie8FX",
        "colab": {
          "base_uri": "https://localhost:8080/",
          "height": 208
        },
        "outputId": "b840b2ce-2025-4356-def6-56cac3028e40"
      },
      "source": [
        "np.concatenate((ar1,ar2), axis=0) #the array at index 0 has size 2 and the array at index 1 has size 3 라는 에러가 발생. 열의 갯수가 맞지 않는 상황이다."
      ],
      "execution_count": 17,
      "outputs": [
        {
          "output_type": "error",
          "ename": "ValueError",
          "evalue": "ignored",
          "traceback": [
            "\u001b[0;31m---------------------------------------------------------------------------\u001b[0m",
            "\u001b[0;31mValueError\u001b[0m                                Traceback (most recent call last)",
            "\u001b[0;32m<ipython-input-17-1c958c5ba355>\u001b[0m in \u001b[0;36m<module>\u001b[0;34m()\u001b[0m\n\u001b[0;32m----> 1\u001b[0;31m \u001b[0mnp\u001b[0m\u001b[0;34m.\u001b[0m\u001b[0mconcatenate\u001b[0m\u001b[0;34m(\u001b[0m\u001b[0;34m(\u001b[0m\u001b[0mar1\u001b[0m\u001b[0;34m,\u001b[0m\u001b[0mar2\u001b[0m\u001b[0;34m)\u001b[0m\u001b[0;34m,\u001b[0m \u001b[0maxis\u001b[0m\u001b[0;34m=\u001b[0m\u001b[0;36m0\u001b[0m\u001b[0;34m)\u001b[0m\u001b[0;34m\u001b[0m\u001b[0;34m\u001b[0m\u001b[0m\n\u001b[0m",
            "\u001b[0;32m<__array_function__ internals>\u001b[0m in \u001b[0;36mconcatenate\u001b[0;34m(*args, **kwargs)\u001b[0m\n",
            "\u001b[0;31mValueError\u001b[0m: all the input array dimensions for the concatenation axis must match exactly, but along dimension 1, the array at index 0 has size 2 and the array at index 1 has size 3"
          ]
        }
      ]
    },
    {
      "cell_type": "markdown",
      "metadata": {
        "id": "5w2gtJc570pG"
      },
      "source": [
        "> ar1의 열의 갯수 == ar2의 열의 갯수"
      ]
    },
    {
      "cell_type": "code",
      "metadata": {
        "id": "z3y05uAz8G-X",
        "colab": {
          "base_uri": "https://localhost:8080/"
        },
        "outputId": "b64bcef8-c74b-4a42-aed8-de4369c56e04"
      },
      "source": [
        "ar1.shape, ar2.shape"
      ],
      "execution_count": 18,
      "outputs": [
        {
          "output_type": "execute_result",
          "data": {
            "text/plain": [
              "((2, 2), (2, 3))"
            ]
          },
          "metadata": {},
          "execution_count": 18
        }
      ]
    },
    {
      "cell_type": "code",
      "metadata": {
        "id": "Gxhxr_Zq8cv1",
        "colab": {
          "base_uri": "https://localhost:8080/"
        },
        "outputId": "2a40451a-cb69-4fd8-b57f-dcab4824c390"
      },
      "source": [
        "ar2.T.shape # 트랜스포즈, 전치행렬을 이용한다."
      ],
      "execution_count": 19,
      "outputs": [
        {
          "output_type": "execute_result",
          "data": {
            "text/plain": [
              "(3, 2)"
            ]
          },
          "metadata": {},
          "execution_count": 19
        }
      ]
    },
    {
      "cell_type": "code",
      "metadata": {
        "id": "-YluBjwJe-ZA",
        "colab": {
          "base_uri": "https://localhost:8080/"
        },
        "outputId": "e565b0fb-86b5-4703-979a-7db434163cc4"
      },
      "source": [
        "np.concatenate((ar1,ar2.T), axis=0)"
      ],
      "execution_count": 20,
      "outputs": [
        {
          "output_type": "execute_result",
          "data": {
            "text/plain": [
              "array([[ 1,  2],\n",
              "       [ 3,  4],\n",
              "       [ 5,  8],\n",
              "       [ 6,  9],\n",
              "       [ 7, 10]])"
            ]
          },
          "metadata": {},
          "execution_count": 20
        }
      ]
    },
    {
      "cell_type": "markdown",
      "metadata": {
        "id": "SdshjTzPfesK"
      },
      "source": [
        "### concatenate(array1, array2, axis = 1)"
      ]
    },
    {
      "cell_type": "code",
      "metadata": {
        "id": "w9kFrYBhfHk3",
        "colab": {
          "base_uri": "https://localhost:8080/"
        },
        "outputId": "1008d35d-c888-49d5-ed4d-b624c4f8e14b"
      },
      "source": [
        "np.concatenate((ar1,ar2), axis=1)"
      ],
      "execution_count": 21,
      "outputs": [
        {
          "output_type": "execute_result",
          "data": {
            "text/plain": [
              "array([[ 1,  2,  5,  6,  7],\n",
              "       [ 3,  4,  8,  9, 10]])"
            ]
          },
          "metadata": {},
          "execution_count": 21
        }
      ]
    },
    {
      "cell_type": "markdown",
      "metadata": {
        "id": "jyLRkxWphKuh"
      },
      "source": [
        "\n",
        "\n",
        "---\n",
        "\n",
        "\n",
        "\n",
        "---\n",
        "\n"
      ]
    },
    {
      "cell_type": "markdown",
      "metadata": {
        "id": "0bOTc7xGhNL_"
      },
      "source": [
        "## [복습] numpy 배열 연산: broadcasting\n",
        "> [파이썬 Numpy 라이브러리 (5) Broadcasting|작성자 예비개발자](https://blog.naver.com/qbxlvnf11/221509303462)"
      ]
    },
    {
      "cell_type": "code",
      "metadata": {
        "id": "dbwtQs2_gW4I",
        "colab": {
          "base_uri": "https://localhost:8080/"
        },
        "outputId": "0ace2347-6a64-490a-ae33-ed1528816774"
      },
      "source": [
        "a = np.array([1.0, 2.0, 3.0])\n",
        "b = np.array([2.0, 2.0, 2.0])\n",
        "a * b   # elementwise multiplication\n",
        "# [출처] 파이썬 Numpy 라이브러리 (5) Broadcasting|작성자 예비개발자\n"
      ],
      "execution_count": 22,
      "outputs": [
        {
          "output_type": "execute_result",
          "data": {
            "text/plain": [
              "array([2., 4., 6.])"
            ]
          },
          "metadata": {},
          "execution_count": 22
        }
      ]
    },
    {
      "cell_type": "code",
      "metadata": {
        "id": "Ulu6tHKKh_KH",
        "colab": {
          "base_uri": "https://localhost:8080/"
        },
        "outputId": "fff968fc-0117-45a3-8e27-27d6661e8ede"
      },
      "source": [
        "a = np.array([1.0, 2.0, 3.0])\n",
        "b = 2.0\n",
        "a * b   # broadcasted multiplication\n"
      ],
      "execution_count": 23,
      "outputs": [
        {
          "output_type": "execute_result",
          "data": {
            "text/plain": [
              "array([2., 4., 6.])"
            ]
          },
          "metadata": {},
          "execution_count": 23
        }
      ]
    },
    {
      "cell_type": "markdown",
      "metadata": {
        "id": "5GD4KImwiVMK"
      },
      "source": [
        "> 차원이 다른 두 개의 피연산자를 산술 연산할 때는 원래 연산이 불가능합니다.\n",
        "하지만, 연산이 가능하도록 배열 b가 브로드캐스팅이 되어 numpy array ([2.0, 2.0, 2.0])으로 확장됩니다."
      ]
    },
    {
      "cell_type": "markdown",
      "metadata": {
        "id": "AawX49nxjTc6"
      },
      "source": [
        "### 2차원 broadcasting"
      ]
    },
    {
      "cell_type": "code",
      "metadata": {
        "id": "knujYDR0iYLi",
        "colab": {
          "base_uri": "https://localhost:8080/"
        },
        "outputId": "2a2eefac-f4fd-4d6d-9d28-8f30c6a2a542"
      },
      "source": [
        "a = np.array([[ 0.0,  0.0,  0.0],\n",
        "              [10.0, 10.0, 10.0],\n",
        "              [20.0, 20.0, 20.0],\n",
        "              [30.0, 30.0, 30.0]])\n",
        "\n",
        "b = np.array([1.0, 2.0, 3.0])\n",
        "\n",
        "a + b"
      ],
      "execution_count": 24,
      "outputs": [
        {
          "output_type": "execute_result",
          "data": {
            "text/plain": [
              "array([[ 1.,  2.,  3.],\n",
              "       [11., 12., 13.],\n",
              "       [21., 22., 23.],\n",
              "       [31., 32., 33.]])"
            ]
          },
          "metadata": {},
          "execution_count": 24
        }
      ]
    },
    {
      "cell_type": "code",
      "metadata": {
        "id": "cWfxzXxvjdWn",
        "colab": {
          "base_uri": "https://localhost:8080/"
        },
        "outputId": "6988a61c-65e9-40e3-ad14-b3dbc4ee392b"
      },
      "source": [
        "(a+b).shape"
      ],
      "execution_count": 25,
      "outputs": [
        {
          "output_type": "execute_result",
          "data": {
            "text/plain": [
              "(4, 3)"
            ]
          },
          "metadata": {},
          "execution_count": 25
        }
      ]
    },
    {
      "cell_type": "code",
      "metadata": {
        "id": "LqvXRY40jjZ7",
        "colab": {
          "base_uri": "https://localhost:8080/"
        },
        "outputId": "75903d6d-c0e5-43ba-a7f1-174d48f16f43"
      },
      "source": [
        "from numpy import array, newaxis\n",
        "a = array([0.0, 10.0, 20.0, 30.0]) \n",
        "b = array([1.0, 2.0, 3.0])   # 둘의 열의 갯수가 다른 상태\n",
        "# c = a + b\n",
        "c = a[:,newaxis] + b\n",
        "c\n"
      ],
      "execution_count": 27,
      "outputs": [
        {
          "output_type": "execute_result",
          "data": {
            "text/plain": [
              "array([[ 1.,  2.,  3.],\n",
              "       [11., 12., 13.],\n",
              "       [21., 22., 23.],\n",
              "       [31., 32., 33.]])"
            ]
          },
          "metadata": {},
          "execution_count": 27
        }
      ]
    },
    {
      "cell_type": "code",
      "metadata": {
        "id": "JHIEdW8s8RGN",
        "colab": {
          "base_uri": "https://localhost:8080/"
        },
        "outputId": "252306c9-ad84-449e-a480-431a2b9ba268"
      },
      "source": [
        "c.shape"
      ],
      "execution_count": 28,
      "outputs": [
        {
          "output_type": "execute_result",
          "data": {
            "text/plain": [
              "(4, 3)"
            ]
          },
          "metadata": {},
          "execution_count": 28
        }
      ]
    },
    {
      "cell_type": "markdown",
      "metadata": {
        "id": "1ncYRyHe-CZr"
      },
      "source": [
        "## numpy statistics\n",
        "> [numpy: 기술 통계](https://datascienceschool.net/01%20python/03.04%20%EA%B8%B0%EC%88%A0%20%ED%86%B5%EA%B3%84.html)\n",
        "- min(), max()\n",
        "- mean(), median(), var(), std()"
      ]
    },
    {
      "cell_type": "code",
      "metadata": {
        "id": "Y5ud-HFW8eIf",
        "colab": {
          "base_uri": "https://localhost:8080/"
        },
        "outputId": "7c7158b5-f39f-42c1-b2cc-eb0d9852cb83"
      },
      "source": [
        "# a = np.array(list(range(1,10)))\n",
        "a = np.arange(1,10) # a = np.array(list(range(1,10)))의 구조를 arange 함수로 간단히 표현할 수 있다. 둘의 출력 결과는 같다.\n",
        "a"
      ],
      "execution_count": 30,
      "outputs": [
        {
          "output_type": "execute_result",
          "data": {
            "text/plain": [
              "array([1, 2, 3, 4, 5, 6, 7, 8, 9])"
            ]
          },
          "metadata": {},
          "execution_count": 30
        }
      ]
    },
    {
      "cell_type": "code",
      "metadata": {
        "id": "wH8of6HA_Prv",
        "colab": {
          "base_uri": "https://localhost:8080/"
        },
        "outputId": "dcab38b5-bf79-41a5-f245-3fcce130e250"
      },
      "source": [
        "# np.min, np.max\n",
        "a.min(),a.max()"
      ],
      "execution_count": 31,
      "outputs": [
        {
          "output_type": "execute_result",
          "data": {
            "text/plain": [
              "(1, 9)"
            ]
          },
          "metadata": {},
          "execution_count": 31
        }
      ]
    },
    {
      "cell_type": "code",
      "metadata": {
        "id": "ffwHAk09-73z",
        "colab": {
          "base_uri": "https://localhost:8080/"
        },
        "outputId": "0dbce557-79a9-47a0-d704-7745decaed38"
      },
      "source": [
        "# array.min(), array.max()\n",
        "np.min(a), np.max(a)"
      ],
      "execution_count": 32,
      "outputs": [
        {
          "output_type": "execute_result",
          "data": {
            "text/plain": [
              "(1, 9)"
            ]
          },
          "metadata": {},
          "execution_count": 32
        }
      ]
    },
    {
      "cell_type": "code",
      "metadata": {
        "id": "kEtVFpFi_1b_",
        "colab": {
          "base_uri": "https://localhost:8080/"
        },
        "outputId": "0d16eeb0-0096-4ef6-bb36-c1afe19b13ba"
      },
      "source": [
        "# mean() and median()\n",
        "a.mean(), np.mean(a) #, a.median()\n"
      ],
      "execution_count": 35,
      "outputs": [
        {
          "output_type": "execute_result",
          "data": {
            "text/plain": [
              "(5.0, 5.0)"
            ]
          },
          "metadata": {},
          "execution_count": 35
        }
      ]
    },
    {
      "cell_type": "code",
      "metadata": {
        "colab": {
          "base_uri": "https://localhost:8080/"
        },
        "id": "rJu1jL6xwrVH",
        "outputId": "985b94d2-ac58-4c3f-d525-cc32791be0a3"
      },
      "source": [
        "# median()\n",
        "np.median(a)"
      ],
      "execution_count": 37,
      "outputs": [
        {
          "output_type": "execute_result",
          "data": {
            "text/plain": [
              "5.0"
            ]
          },
          "metadata": {},
          "execution_count": 37
        }
      ]
    },
    {
      "cell_type": "code",
      "metadata": {
        "id": "g7IgKPOe_NBD",
        "colab": {
          "base_uri": "https://localhost:8080/"
        },
        "outputId": "1d570c8c-29c6-406c-ae60-9bb177f4efbe"
      },
      "source": [
        "# var(), std()\n",
        "a.var(), a.std()"
      ],
      "execution_count": 38,
      "outputs": [
        {
          "output_type": "execute_result",
          "data": {
            "text/plain": [
              "(6.666666666666667, 2.581988897471611)"
            ]
          },
          "metadata": {},
          "execution_count": 38
        }
      ]
    },
    {
      "cell_type": "code",
      "metadata": {
        "colab": {
          "base_uri": "https://localhost:8080/"
        },
        "id": "zBU0L5mrxD54",
        "outputId": "dde52754-7bb3-49e6-b342-1a279ae48773"
      },
      "source": [
        "np.var(a), np.std(a)"
      ],
      "execution_count": 39,
      "outputs": [
        {
          "output_type": "execute_result",
          "data": {
            "text/plain": [
              "(6.666666666666667, 2.581988897471611)"
            ]
          },
          "metadata": {},
          "execution_count": 39
        }
      ]
    },
    {
      "cell_type": "markdown",
      "metadata": {
        "id": "wwGFoE7-A_sL"
      },
      "source": [
        "## 2차원 배열의 기술 통계\n",
        "- axis = 0\n",
        "- axis = 1"
      ]
    },
    {
      "cell_type": "code",
      "metadata": {
        "id": "zus29lwL_v8N",
        "colab": {
          "base_uri": "https://localhost:8080/"
        },
        "outputId": "1eab6e92-8d11-4785-ae2c-1c655d5335e5"
      },
      "source": [
        "d2arr = np.arange(1,10).reshape(-1,3)\n",
        "d2arr"
      ],
      "execution_count": 40,
      "outputs": [
        {
          "output_type": "execute_result",
          "data": {
            "text/plain": [
              "array([[1, 2, 3],\n",
              "       [4, 5, 6],\n",
              "       [7, 8, 9]])"
            ]
          },
          "metadata": {},
          "execution_count": 40
        }
      ]
    },
    {
      "cell_type": "code",
      "metadata": {
        "id": "i79v3XNTCH1t",
        "colab": {
          "base_uri": "https://localhost:8080/"
        },
        "outputId": "7f563833-21a0-4bf1-bac5-7e728dd58017"
      },
      "source": [
        "d2arr.max()"
      ],
      "execution_count": 41,
      "outputs": [
        {
          "output_type": "execute_result",
          "data": {
            "text/plain": [
              "9"
            ]
          },
          "metadata": {},
          "execution_count": 41
        }
      ]
    },
    {
      "cell_type": "code",
      "metadata": {
        "id": "zwM7hGGsCNc1",
        "colab": {
          "base_uri": "https://localhost:8080/"
        },
        "outputId": "737d96bb-89e8-4f1e-d5e3-0e186158ca46"
      },
      "source": [
        "d2arr.max(axis=0)"
      ],
      "execution_count": 42,
      "outputs": [
        {
          "output_type": "execute_result",
          "data": {
            "text/plain": [
              "array([7, 8, 9])"
            ]
          },
          "metadata": {},
          "execution_count": 42
        }
      ]
    },
    {
      "cell_type": "code",
      "metadata": {
        "id": "A8-Nb6k0CQ1M",
        "colab": {
          "base_uri": "https://localhost:8080/"
        },
        "outputId": "ce37d35e-b878-496c-9e33-5c8a05db065d"
      },
      "source": [
        "d2arr.max(axis=1)"
      ],
      "execution_count": 43,
      "outputs": [
        {
          "output_type": "execute_result",
          "data": {
            "text/plain": [
              "array([3, 6, 9])"
            ]
          },
          "metadata": {},
          "execution_count": 43
        }
      ]
    },
    {
      "cell_type": "code",
      "metadata": {
        "colab": {
          "base_uri": "https://localhost:8080/"
        },
        "id": "l7Ro53SkxzbE",
        "outputId": "29092c63-fcb9-4c28-f406-b272a1de25d0"
      },
      "source": [
        "print(d2arr.min(axis=None))\n",
        "print(d2arr.min(axis=0))\n",
        "print(d2arr.min(axis=1))"
      ],
      "execution_count": 44,
      "outputs": [
        {
          "output_type": "stream",
          "name": "stdout",
          "text": [
            "1\n",
            "[1 2 3]\n",
            "[1 4 7]\n"
          ]
        }
      ]
    },
    {
      "cell_type": "markdown",
      "metadata": {
        "id": "Rxyf4y2gC7xY"
      },
      "source": [
        "## [DIY: 도전과제]\n",
        "- axis = None, 1, 2 에 따른 평균을 구하시오."
      ]
    },
    {
      "cell_type": "code",
      "metadata": {
        "id": "YywXMIAqDMzz",
        "colab": {
          "base_uri": "https://localhost:8080/"
        },
        "outputId": "c8e49ae1-4457-4e62-db32-a242abc66104"
      },
      "source": [
        "# Your code here!\n",
        "print(d2arr.mean(axis=None))\n",
        "print(d2arr.mean(axis=0))\n",
        "print(d2arr.mean(axis=1))\n"
      ],
      "execution_count": 46,
      "outputs": [
        {
          "output_type": "stream",
          "name": "stdout",
          "text": [
            "5.0\n",
            "[4. 5. 6.]\n",
            "[2. 5. 8.]\n"
          ]
        }
      ]
    }
  ]
}