{
  "nbformat": 4,
  "nbformat_minor": 0,
  "metadata": {
    "colab": {
      "name": "numpy_3_random.ipynb",
      "provenance": [],
      "collapsed_sections": [],
      "include_colab_link": true
    },
    "kernelspec": {
      "name": "python3",
      "display_name": "Python 3"
    }
  },
  "cells": [
    {
      "cell_type": "markdown",
      "metadata": {
        "id": "view-in-github",
        "colab_type": "text"
      },
      "source": [
        "<a href=\"https://colab.research.google.com/github/bum3632/pdm13/blob/main/numpy/numpy_3_random.ipynb\" target=\"_parent\"><img src=\"https://colab.research.google.com/assets/colab-badge.svg\" alt=\"Open In Colab\"/></a>"
      ]
    },
    {
      "cell_type": "markdown",
      "metadata": {
        "id": "_zrirXHfgmyY"
      },
      "source": [
        "# numpy\n",
        "## random 서브모듈\n",
        "> [데이터싸이언스 스쿨:난수발생](https://datascienceschool.net/01%20python/03.05%20%EB%82%9C%EC%88%98%20%EB%B0%9C%EC%83%9D%EA%B3%BC%20%EC%B9%B4%EC%9A%B4%ED%8C%85.html)"
      ]
    },
    {
      "cell_type": "code",
      "metadata": {
        "id": "kQbzzSMZG2PX"
      },
      "source": [
        "import numpy as np"
      ],
      "execution_count": 9,
      "outputs": []
    },
    {
      "cell_type": "markdown",
      "metadata": {
        "id": "1Ry0YHkNFis5"
      },
      "source": [
        "## 난수 생성\n",
        "> NumPy의 random 서브모듈은 난수를 생성하는 다양한 명령을 제공.\n",
        "\n",
        "- rand: 0부터 1사이의 균일 분포 (uniform distribution)\n",
        "- randn: 가우시안 표준 정규 분포 (normal distribution, Gaussian)\n",
        "- randint: 균일 분포의 정수 난수 (uniform int)\n",
        "\n",
        "> randn()은 평균 0, 표준편차 1 인 가우시안 정규분포를 생성."
      ]
    },
    {
      "cell_type": "markdown",
      "metadata": {
        "id": "CtO1VxvurziR"
      },
      "source": [
        "### rand: 0부터 1사이의 균일 분포 (uniform distribution)"
      ]
    },
    {
      "cell_type": "code",
      "metadata": {
        "id": "LA1oF6aEG7kJ",
        "colab": {
          "base_uri": "https://localhost:8080/"
        },
        "outputId": "b4cc7fb8-e4b0-4716-e364-f2ba61303df6"
      },
      "source": [
        "np.random.rand(5) # 0부터 1 미만의 무작위 수 5개 생성"
      ],
      "execution_count": 10,
      "outputs": [
        {
          "output_type": "execute_result",
          "data": {
            "text/plain": [
              "array([0.93020974, 0.85788358, 0.6144273 , 0.72269467, 0.87589067])"
            ]
          },
          "metadata": {},
          "execution_count": 10
        }
      ]
    },
    {
      "cell_type": "code",
      "metadata": {
        "id": "H6f4ix3NHCyR",
        "colab": {
          "base_uri": "https://localhost:8080/"
        },
        "outputId": "fd969397-6b2c-4a58-9ab2-044914979e86"
      },
      "source": [
        "np.random.rand(5)"
      ],
      "execution_count": 11,
      "outputs": [
        {
          "output_type": "execute_result",
          "data": {
            "text/plain": [
              "array([0.72872027, 0.05134083, 0.39746878, 0.19767935, 0.4562555 ])"
            ]
          },
          "metadata": {},
          "execution_count": 11
        }
      ]
    },
    {
      "cell_type": "markdown",
      "metadata": {
        "id": "c88F6gf8r4K2"
      },
      "source": [
        "### randn: 가우시안 표준 정규 분포 (normal distribution, Gaussian)"
      ]
    },
    {
      "cell_type": "code",
      "metadata": {
        "id": "rtVfCL-uP2Tw",
        "colab": {
          "base_uri": "https://localhost:8080/"
        },
        "outputId": "f8e51ca9-0baa-4dc9-9fd4-47edda5a9de7"
      },
      "source": [
        "np.random.randn(5) # 0을 중심으로 양과 음의 수가 다 생성 -> 가우시안 분포이므로 위의 균일 분포와는 차이가 있다."
      ],
      "execution_count": 12,
      "outputs": [
        {
          "output_type": "execute_result",
          "data": {
            "text/plain": [
              "array([-1.4463397 , -1.47958659, -0.35853198,  0.01337643, -0.22088598])"
            ]
          },
          "metadata": {},
          "execution_count": 12
        }
      ]
    },
    {
      "cell_type": "code",
      "metadata": {
        "colab": {
          "base_uri": "https://localhost:8080/"
        },
        "id": "2aARaxi71aLF",
        "outputId": "efca57a5-bd6a-4a57-dd9d-96a29192ed75"
      },
      "source": [
        "np.random.randn(5)"
      ],
      "execution_count": 13,
      "outputs": [
        {
          "output_type": "execute_result",
          "data": {
            "text/plain": [
              "array([-1.8789532 ,  3.08779772,  0.06535761,  0.05645938, -0.34246126])"
            ]
          },
          "metadata": {},
          "execution_count": 13
        }
      ]
    },
    {
      "cell_type": "markdown",
      "metadata": {
        "id": "wsvTzTFSsBSJ"
      },
      "source": [
        "### randint: 균일 분포의 정수 난수 (uniform int)\n",
        "- numpy.random.randint(low, high=None, size=None, dtype='l')"
      ]
    },
    {
      "cell_type": "code",
      "metadata": {
        "id": "WSvAH8uVs2Vb",
        "colab": {
          "base_uri": "https://localhost:8080/"
        },
        "outputId": "82844ef6-4e82-4f53-e538-67569e86af4c"
      },
      "source": [
        "np.random.randint(5)"
      ],
      "execution_count": 14,
      "outputs": [
        {
          "output_type": "execute_result",
          "data": {
            "text/plain": [
              "2"
            ]
          },
          "metadata": {},
          "execution_count": 14
        }
      ]
    },
    {
      "cell_type": "code",
      "metadata": {
        "colab": {
          "base_uri": "https://localhost:8080/"
        },
        "id": "VoIfT8Wq2BXc",
        "outputId": "34d7630d-1c64-4cbb-be3f-f4ac68d0fb97"
      },
      "source": [
        "# die number -> 주사위 시스템\n",
        "np.random.randint(1,7) # 1부터 6까지의 랜덤 수 생성"
      ],
      "execution_count": 15,
      "outputs": [
        {
          "output_type": "execute_result",
          "data": {
            "text/plain": [
              "5"
            ]
          },
          "metadata": {},
          "execution_count": 15
        }
      ]
    },
    {
      "cell_type": "code",
      "metadata": {
        "id": "McWHW15uQDPr",
        "colab": {
          "base_uri": "https://localhost:8080/"
        },
        "outputId": "3c53b31e-d2d0-4338-a66e-9d3ad0fd81ae"
      },
      "source": [
        "np.random.randint(5,9) "
      ],
      "execution_count": 16,
      "outputs": [
        {
          "output_type": "execute_result",
          "data": {
            "text/plain": [
              "6"
            ]
          },
          "metadata": {},
          "execution_count": 16
        }
      ]
    },
    {
      "cell_type": "code",
      "metadata": {
        "id": "oBsWu9FmQQSC",
        "colab": {
          "base_uri": "https://localhost:8080/"
        },
        "outputId": "e78af7e1-e857-42ef-cf37-b155a3db2c92"
      },
      "source": [
        "np.random.randint(0,10,5) # 뒤의 5는 만드는 숫자의 사이즈(갯수)를 뜻한다."
      ],
      "execution_count": 17,
      "outputs": [
        {
          "output_type": "execute_result",
          "data": {
            "text/plain": [
              "array([3, 1, 7, 2, 9])"
            ]
          },
          "metadata": {},
          "execution_count": 17
        }
      ]
    },
    {
      "cell_type": "code",
      "metadata": {
        "id": "0kNuJxjaQYEu",
        "colab": {
          "base_uri": "https://localhost:8080/"
        },
        "outputId": "6b6f875f-1856-4ffd-9f70-94f4592d5ae6"
      },
      "source": [
        "np.random.randint(0,10,5)"
      ],
      "execution_count": 18,
      "outputs": [
        {
          "output_type": "execute_result",
          "data": {
            "text/plain": [
              "array([4, 5, 1, 7, 8])"
            ]
          },
          "metadata": {},
          "execution_count": 18
        }
      ]
    },
    {
      "cell_type": "markdown",
      "metadata": {
        "id": "K58DiNYUmANL"
      },
      "source": [
        "---"
      ]
    },
    {
      "cell_type": "markdown",
      "metadata": {
        "id": "xU5NWjQ3F_ld"
      },
      "source": [
        "## 난수 생성 seed 설정\n",
        "- numpy.random.seed(seed=None)\n",
        "- np.random.seed(number)"
      ]
    },
    {
      "cell_type": "code",
      "metadata": {
        "id": "AxUeYmQSQawG"
      },
      "source": [
        "np.random.seed()"
      ],
      "execution_count": 19,
      "outputs": []
    },
    {
      "cell_type": "code",
      "metadata": {
        "id": "C33YjKqvRJ33",
        "colab": {
          "base_uri": "https://localhost:8080/"
        },
        "outputId": "6b4823dd-ac08-42ae-8bed-e02941eaa590"
      },
      "source": [
        "np.random.rand(5)"
      ],
      "execution_count": 20,
      "outputs": [
        {
          "output_type": "execute_result",
          "data": {
            "text/plain": [
              "array([0.91391382, 0.68371635, 0.5210574 , 0.59054958, 0.52790773])"
            ]
          },
          "metadata": {},
          "execution_count": 20
        }
      ]
    },
    {
      "cell_type": "code",
      "metadata": {
        "id": "Ne8rIyN9RO81",
        "colab": {
          "base_uri": "https://localhost:8080/"
        },
        "outputId": "08901fc5-679a-4891-d8a4-675c410e8c03"
      },
      "source": [
        "np.random.rand(5)"
      ],
      "execution_count": 21,
      "outputs": [
        {
          "output_type": "execute_result",
          "data": {
            "text/plain": [
              "array([0.87142141, 0.71233524, 0.88978766, 0.76280904, 0.51284155])"
            ]
          },
          "metadata": {},
          "execution_count": 21
        }
      ]
    },
    {
      "cell_type": "markdown",
      "metadata": {
        "id": "wnQ4gFoltu81"
      },
      "source": [
        "### 동일한 무작위수 생성\n",
        "- seed를 고정하고 무작위수 생성"
      ]
    },
    {
      "cell_type": "code",
      "metadata": {
        "id": "LGPOJGfgRSWx"
      },
      "source": [
        "np.random.seed(1234)"
      ],
      "execution_count": 22,
      "outputs": []
    },
    {
      "cell_type": "code",
      "metadata": {
        "id": "t2PNRUpfRXZk",
        "colab": {
          "base_uri": "https://localhost:8080/"
        },
        "outputId": "525ed518-ea83-46d2-8e5c-dc79ad06cba6"
      },
      "source": [
        "np.random.rand(5)"
      ],
      "execution_count": 23,
      "outputs": [
        {
          "output_type": "execute_result",
          "data": {
            "text/plain": [
              "array([0.19151945, 0.62210877, 0.43772774, 0.78535858, 0.77997581])"
            ]
          },
          "metadata": {},
          "execution_count": 23
        }
      ]
    },
    {
      "cell_type": "code",
      "metadata": {
        "id": "x8yKednV8CZy",
        "colab": {
          "base_uri": "https://localhost:8080/"
        },
        "outputId": "d02e35b3-742c-47e7-df2a-6b14d4081b3c"
      },
      "source": [
        "np.random.rand(5)"
      ],
      "execution_count": 24,
      "outputs": [
        {
          "output_type": "execute_result",
          "data": {
            "text/plain": [
              "array([0.27259261, 0.27646426, 0.80187218, 0.95813935, 0.87593263])"
            ]
          },
          "metadata": {},
          "execution_count": 24
        }
      ]
    },
    {
      "cell_type": "code",
      "metadata": {
        "id": "bo2A_ntYRcKw"
      },
      "source": [
        "np.random.seed(1234)"
      ],
      "execution_count": 25,
      "outputs": []
    },
    {
      "cell_type": "code",
      "metadata": {
        "id": "U5qXdwYQRYeT",
        "colab": {
          "base_uri": "https://localhost:8080/"
        },
        "outputId": "05540c3f-e74e-4db9-99ea-c50e2cc2b690"
      },
      "source": [
        "np.random.rand(5)"
      ],
      "execution_count": 26,
      "outputs": [
        {
          "output_type": "execute_result",
          "data": {
            "text/plain": [
              "array([0.19151945, 0.62210877, 0.43772774, 0.78535858, 0.77997581])"
            ]
          },
          "metadata": {},
          "execution_count": 26
        }
      ]
    },
    {
      "cell_type": "markdown",
      "metadata": {
        "id": "pwMXGAwmRhpW"
      },
      "source": [
        "### seed 고정 후에 randint(5)"
      ]
    },
    {
      "cell_type": "code",
      "metadata": {
        "id": "tqmTOMMVRhGW",
        "colab": {
          "base_uri": "https://localhost:8080/"
        },
        "outputId": "c3840492-d1f9-461a-faf3-ae74d11ab84d"
      },
      "source": [
        "np.random.seed(5678) # 시드값은 임의의 정수가 들어가면 된다.\n",
        "np.random.randint(1,10,5)"
      ],
      "execution_count": 27,
      "outputs": [
        {
          "output_type": "execute_result",
          "data": {
            "text/plain": [
              "array([5, 8, 3, 5, 4])"
            ]
          },
          "metadata": {},
          "execution_count": 27
        }
      ]
    },
    {
      "cell_type": "code",
      "metadata": {
        "id": "YxQYjcOLSA-Z",
        "colab": {
          "base_uri": "https://localhost:8080/"
        },
        "outputId": "1df68b15-e96e-49dd-d2ce-f48641a61696"
      },
      "source": [
        "np.random.randint(1,10,5)"
      ],
      "execution_count": 28,
      "outputs": [
        {
          "output_type": "execute_result",
          "data": {
            "text/plain": [
              "array([6, 3, 7, 4, 1])"
            ]
          },
          "metadata": {},
          "execution_count": 28
        }
      ]
    },
    {
      "cell_type": "code",
      "metadata": {
        "id": "aQYF5QpGSD6p",
        "colab": {
          "base_uri": "https://localhost:8080/"
        },
        "outputId": "1a44c341-ccf0-44fc-b90c-791c2520ef38"
      },
      "source": [
        "np.random.seed(5678)\n",
        "np.random.randint(1,10,5)"
      ],
      "execution_count": 29,
      "outputs": [
        {
          "output_type": "execute_result",
          "data": {
            "text/plain": [
              "array([5, 8, 3, 5, 4])"
            ]
          },
          "metadata": {},
          "execution_count": 29
        }
      ]
    },
    {
      "cell_type": "code",
      "metadata": {
        "id": "cfIhMEcVSGKa",
        "colab": {
          "base_uri": "https://localhost:8080/"
        },
        "outputId": "e2b3effd-6c89-436f-b936-e33b6847a710"
      },
      "source": [
        "np.random.seed(5678) # 만들때마다 반복해서 시드를 고정해주어야 같은 값이 출력된다.\n",
        "np.random.randint(1,10,5)"
      ],
      "execution_count": 30,
      "outputs": [
        {
          "output_type": "execute_result",
          "data": {
            "text/plain": [
              "array([5, 8, 3, 5, 4])"
            ]
          },
          "metadata": {},
          "execution_count": 30
        }
      ]
    },
    {
      "cell_type": "code",
      "metadata": {
        "id": "Ik9a-QkcfLwy",
        "colab": {
          "base_uri": "https://localhost:8080/"
        },
        "outputId": "e5aba838-83d5-45b1-c01f-10e340e40b3c"
      },
      "source": [
        "# seed 변경\n",
        "np.random.seed(0) # 위의 시드와는 다른 변경된 상태\n",
        "np.random.randint(1,10,5)"
      ],
      "execution_count": 31,
      "outputs": [
        {
          "output_type": "execute_result",
          "data": {
            "text/plain": [
              "array([6, 1, 4, 4, 8])"
            ]
          },
          "metadata": {},
          "execution_count": 31
        }
      ]
    },
    {
      "cell_type": "markdown",
      "metadata": {
        "id": "Zg3g31drmDMI"
      },
      "source": [
        "---\n",
        "---"
      ]
    },
    {
      "cell_type": "markdown",
      "metadata": {
        "id": "YNVh_pbhfROq"
      },
      "source": [
        "## DIY: 도전 코딩 - numpy 정리 과제\n",
        "- 생성된 마구잡이수를 조사하고 사용하기 \n",
        "- 9월19일 자정 마감."
      ]
    },
    {
      "cell_type": "markdown",
      "metadata": {
        "id": "vxNHFDSIgMmC"
      },
      "source": [
        "### [도전 1.] 0부터 9까지의 마구잡이 정수를 1000개 만들고 각 수의 빈도를 구하시오. "
      ]
    },
    {
      "cell_type": "code",
      "metadata": {
        "id": "qkDfXH1xgjBz",
        "colab": {
          "base_uri": "https://localhost:8080/"
        },
        "outputId": "9c75a8c0-f328-451a-ac28-07f44fd10d9d"
      },
      "source": [
        "# n1000=\n",
        "n1000 = np.random.randint(0,10,1000)\n",
        "n1000"
      ],
      "execution_count": 32,
      "outputs": [
        {
          "output_type": "execute_result",
          "data": {
            "text/plain": [
              "array([9, 3, 5, 2, 4, 7, 6, 8, 8, 1, 6, 7, 7, 8, 1, 5, 9, 8, 9, 4, 3, 0,\n",
              "       3, 5, 0, 2, 3, 8, 1, 3, 3, 3, 7, 0, 1, 9, 9, 0, 4, 7, 3, 2, 7, 2,\n",
              "       0, 0, 4, 5, 5, 6, 8, 4, 1, 4, 9, 8, 1, 1, 7, 9, 9, 3, 6, 7, 2, 0,\n",
              "       3, 5, 9, 4, 4, 6, 4, 4, 3, 4, 4, 8, 4, 3, 7, 5, 5, 0, 1, 5, 9, 3,\n",
              "       0, 5, 0, 1, 2, 4, 2, 0, 3, 2, 0, 7, 5, 9, 0, 2, 7, 2, 9, 2, 3, 3,\n",
              "       2, 3, 4, 1, 2, 9, 1, 4, 6, 8, 2, 3, 0, 0, 6, 0, 6, 3, 3, 8, 8, 8,\n",
              "       2, 3, 2, 0, 8, 8, 3, 8, 2, 8, 4, 3, 0, 4, 3, 6, 9, 8, 0, 8, 5, 9,\n",
              "       0, 9, 6, 5, 3, 1, 8, 0, 4, 9, 6, 5, 7, 8, 8, 9, 2, 8, 6, 6, 9, 1,\n",
              "       6, 8, 8, 3, 2, 3, 6, 3, 6, 5, 7, 0, 8, 4, 6, 5, 8, 2, 3, 9, 7, 5,\n",
              "       3, 4, 5, 3, 3, 7, 9, 9, 9, 7, 3, 2, 3, 9, 7, 7, 5, 1, 2, 2, 8, 1,\n",
              "       5, 8, 4, 0, 2, 5, 5, 0, 8, 1, 1, 0, 3, 8, 8, 4, 4, 0, 9, 3, 7, 3,\n",
              "       2, 1, 1, 2, 1, 4, 2, 5, 5, 5, 2, 5, 7, 7, 6, 1, 6, 7, 2, 3, 1, 9,\n",
              "       5, 9, 9, 2, 0, 9, 1, 9, 0, 6, 0, 4, 8, 4, 3, 3, 8, 8, 7, 0, 3, 8,\n",
              "       7, 7, 1, 8, 4, 7, 0, 4, 9, 0, 6, 4, 2, 4, 6, 3, 3, 7, 8, 5, 0, 8,\n",
              "       5, 4, 7, 4, 1, 3, 3, 9, 2, 5, 2, 3, 5, 7, 2, 7, 1, 6, 5, 0, 0, 3,\n",
              "       1, 9, 9, 6, 6, 7, 8, 8, 7, 0, 8, 6, 8, 9, 8, 3, 6, 1, 7, 4, 9, 2,\n",
              "       0, 8, 2, 7, 8, 4, 4, 1, 7, 6, 9, 4, 1, 5, 9, 7, 1, 3, 5, 7, 3, 6,\n",
              "       6, 7, 9, 1, 9, 6, 0, 3, 8, 4, 1, 4, 5, 0, 3, 1, 4, 4, 4, 0, 0, 8,\n",
              "       4, 6, 9, 3, 3, 2, 1, 2, 1, 3, 4, 1, 1, 0, 7, 8, 4, 3, 5, 6, 3, 2,\n",
              "       9, 8, 1, 4, 0, 8, 3, 9, 5, 5, 1, 7, 8, 6, 4, 7, 3, 5, 3, 6, 4, 7,\n",
              "       3, 0, 5, 9, 3, 7, 5, 5, 8, 0, 8, 3, 6, 9, 3, 2, 7, 0, 3, 0, 3, 6,\n",
              "       1, 9, 2, 9, 4, 9, 1, 3, 2, 4, 9, 7, 4, 9, 4, 1, 2, 7, 2, 3, 9, 7,\n",
              "       6, 6, 2, 3, 6, 0, 8, 0, 7, 6, 5, 9, 6, 5, 2, 7, 1, 9, 2, 2, 5, 6,\n",
              "       4, 2, 2, 1, 0, 9, 0, 2, 8, 3, 0, 8, 8, 1, 0, 5, 8, 2, 3, 5, 3, 8,\n",
              "       6, 4, 6, 3, 6, 2, 6, 5, 5, 9, 4, 6, 5, 1, 3, 3, 8, 9, 5, 5, 6, 0,\n",
              "       9, 7, 5, 1, 5, 6, 6, 8, 7, 5, 3, 2, 9, 9, 3, 2, 5, 4, 1, 5, 8, 3,\n",
              "       5, 8, 4, 1, 7, 8, 1, 2, 1, 1, 7, 5, 0, 4, 1, 1, 6, 6, 0, 2, 3, 7,\n",
              "       9, 2, 4, 9, 0, 6, 9, 2, 4, 7, 3, 0, 5, 4, 0, 2, 3, 1, 7, 1, 3, 4,\n",
              "       1, 7, 4, 0, 2, 7, 4, 0, 2, 6, 9, 2, 4, 9, 9, 5, 4, 4, 9, 8, 1, 5,\n",
              "       7, 0, 1, 3, 9, 2, 8, 2, 4, 8, 2, 9, 8, 7, 8, 2, 3, 3, 6, 0, 3, 6,\n",
              "       3, 9, 6, 3, 2, 2, 2, 6, 4, 6, 0, 4, 9, 2, 1, 6, 1, 7, 5, 6, 1, 6,\n",
              "       6, 6, 6, 2, 5, 2, 2, 3, 2, 9, 3, 8, 5, 4, 5, 1, 5, 8, 2, 9, 9, 5,\n",
              "       6, 4, 0, 8, 5, 5, 5, 1, 0, 0, 0, 0, 0, 7, 6, 3, 5, 4, 3, 4, 5, 1,\n",
              "       3, 6, 7, 4, 0, 0, 7, 3, 3, 0, 0, 9, 4, 4, 5, 8, 8, 0, 1, 5, 9, 9,\n",
              "       6, 1, 4, 0, 4, 7, 7, 7, 6, 2, 6, 0, 2, 7, 7, 2, 6, 1, 3, 7, 0, 5,\n",
              "       4, 5, 5, 3, 8, 0, 1, 5, 4, 1, 5, 0, 6, 8, 8, 6, 3, 4, 4, 3, 6, 5,\n",
              "       9, 8, 1, 3, 8, 1, 5, 8, 0, 3, 7, 1, 7, 8, 0, 7, 5, 9, 9, 6, 8, 7,\n",
              "       5, 9, 1, 0, 0, 5, 6, 3, 6, 1, 7, 7, 0, 7, 6, 0, 4, 2, 7, 5, 2, 8,\n",
              "       5, 6, 6, 4, 1, 5, 4, 5, 5, 6, 3, 8, 1, 4, 2, 9, 7, 4, 1, 8, 2, 3,\n",
              "       3, 4, 1, 6, 2, 5, 4, 9, 1, 5, 9, 4, 5, 7, 4, 4, 2, 2, 1, 3, 0, 1,\n",
              "       9, 1, 6, 9, 8, 6, 3, 0, 7, 3, 2, 5, 9, 7, 3, 4, 7, 6, 7, 3, 6, 9,\n",
              "       3, 7, 1, 3, 7, 8, 8, 4, 5, 3, 6, 9, 6, 2, 9, 3, 5, 7, 9, 0, 7, 1,\n",
              "       2, 5, 0, 5, 8, 9, 8, 2, 5, 3, 1, 7, 3, 8, 5, 5, 1, 9, 7, 2, 1, 0,\n",
              "       1, 0, 1, 1, 6, 8, 8, 3, 2, 0, 7, 4, 6, 0, 5, 3, 3, 9, 4, 9, 0, 6,\n",
              "       5, 3, 0, 0, 1, 2, 0, 2, 2, 9, 6, 7, 8, 9, 8, 2, 4, 7, 7, 5, 7, 2,\n",
              "       4, 1, 1, 1, 7, 9, 0, 9, 0, 2])"
            ]
          },
          "metadata": {},
          "execution_count": 32
        }
      ]
    },
    {
      "cell_type": "code",
      "metadata": {
        "id": "9_6nzbQD3FZi",
        "colab": {
          "base_uri": "https://localhost:8080/"
        },
        "outputId": "4a110f77-e44f-4b1d-958f-3130987035a6"
      },
      "source": [
        "np.unique(n1000) # 유니크 함수 -> 서로서로 독립적인 값들만 뽑아낸 것이 출력된다."
      ],
      "execution_count": 33,
      "outputs": [
        {
          "output_type": "execute_result",
          "data": {
            "text/plain": [
              "array([0, 1, 2, 3, 4, 5, 6, 7, 8, 9])"
            ]
          },
          "metadata": {},
          "execution_count": 33
        }
      ]
    },
    {
      "cell_type": "code",
      "metadata": {
        "id": "eiw9R1243Rzp"
      },
      "source": [
        "# 각 수의 빈도"
      ],
      "execution_count": 34,
      "outputs": []
    },
    {
      "cell_type": "markdown",
      "metadata": {
        "id": "cIhlY6-GghMN"
      },
      "source": [
        "### [도전 2.] 0부터 9까지의 마구잡이 정수를 1000개 만들고 각 수가 처음 출현하는 인덱스를 구하시오.\n",
        "> 0이 처음 나타날 때의 인덱스, 1이 처음 나타날 때의 인덱스, ... "
      ]
    },
    {
      "cell_type": "code",
      "metadata": {
        "colab": {
          "base_uri": "https://localhost:8080/"
        },
        "id": "qB6HzRnb493G",
        "outputId": "394b8c9c-6770-4eea-854c-6814265a60d6"
      },
      "source": [
        "n1000[21], n1000[9]"
      ],
      "execution_count": 35,
      "outputs": [
        {
          "output_type": "execute_result",
          "data": {
            "text/plain": [
              "(0, 1)"
            ]
          },
          "metadata": {},
          "execution_count": 35
        }
      ]
    },
    {
      "cell_type": "code",
      "metadata": {
        "id": "oA1ec_RjgL3X"
      },
      "source": [
        "# 각 수가 처음 출현하는 인덱스\n"
      ],
      "execution_count": 36,
      "outputs": []
    },
    {
      "cell_type": "code",
      "metadata": {
        "id": "yubibMMZ4AZS"
      },
      "source": [
        "# n1000[index]"
      ],
      "execution_count": 37,
      "outputs": []
    },
    {
      "cell_type": "markdown",
      "metadata": {
        "id": "sadkRzWjgiTM"
      },
      "source": [
        "### [도전 3.] seed를 1234로 고정하고, 위의 도전1,2를 다시 해보시오. "
      ]
    },
    {
      "cell_type": "markdown",
      "metadata": {
        "id": "zAGojAainnox"
      },
      "source": [
        "### [도전 4.] 0부터 999까지의 마구잡이 정수로 구성되는 28X28 이차원배열을 만드시오.\n",
        "- 시드를 고정 : np.random.seed(1234)\n",
        "1. 각 행의 최대값, 최소갑을 구하시오.\n",
        "2. 배열 전체의 최대값, 최소값을 구하시오.\n",
        "3. 배열전체의 최대값, 최소값의 index를 각각 찾으시오."
      ]
    },
    {
      "cell_type": "markdown",
      "metadata": {
        "id": "VoSu8rNOnwPU"
      },
      "source": [
        "---\n",
        "---"
      ]
    },
    {
      "cell_type": "markdown",
      "metadata": {
        "id": "ozoCcRquhg4p"
      },
      "source": [
        "## python graphics\n",
        "- matplotlib\n",
        "> import matplotlib.pyplot as plt"
      ]
    },
    {
      "cell_type": "markdown",
      "metadata": {
        "id": "h6yEJiGJ4Lbk"
      },
      "source": [
        "### 무작위수 분포 그려보기"
      ]
    },
    {
      "cell_type": "code",
      "metadata": {
        "id": "ngcwuNlfhrIQ"
      },
      "source": [
        "import matplotlib.pyplot as plt"
      ],
      "execution_count": 38,
      "outputs": []
    },
    {
      "cell_type": "code",
      "metadata": {
        "id": "jr30IHxvJDuE",
        "colab": {
          "base_uri": "https://localhost:8080/",
          "height": 319
        },
        "outputId": "78261af8-ef25-4439-c609-0a05f99ec84d"
      },
      "source": [
        "# plt.hist(n1000,label=range(0,10), color='red', bins=20) #bins로 인해서 0.5단위로 출력된다. bins가 크면 클수록 x축의 범위가 더 세분되어 출력된다.\n",
        "plt.hist(n1000,label=range(0,10), color='red')\n",
        "# plt.show()"
      ],
      "execution_count": 39,
      "outputs": [
        {
          "output_type": "execute_result",
          "data": {
            "text/plain": [
              "(array([100.,  96.,  98., 120.,  99., 104.,  94.,  96.,  95.,  98.]),\n",
              " array([0. , 0.9, 1.8, 2.7, 3.6, 4.5, 5.4, 6.3, 7.2, 8.1, 9. ]),\n",
              " <a list of 10 Patch objects>)"
            ]
          },
          "metadata": {},
          "execution_count": 39
        },
        {
          "output_type": "display_data",
          "data": {
            "image/png": "[encoded data removed]",
            "text/plain": [
              "<Figure size 432x288 with 1 Axes>"
            ]
          },
          "metadata": {
            "needs_background": "light"
          }
        }
      ]
    },
    {
      "cell_type": "markdown",
      "metadata": {
        "id": "b-JcgSU-Ktyz"
      },
      "source": [
        "### [도전] 균일분포와 정규분포를 비교하는 그림을 그리시오."
      ]
    },
    {
      "cell_type": "code",
      "metadata": {
        "id": "k0XaT2f9JGZy",
        "colab": {
          "base_uri": "https://localhost:8080/",
          "height": 373
        },
        "outputId": "de4a091c-e576-4690-e5db-5cfab04e925e"
      },
      "source": [
        "plt.hist(np.random.rand(10000))"
      ],
      "execution_count": 40,
      "outputs": [
        {
          "output_type": "execute_result",
          "data": {
            "text/plain": [
              "(array([1017., 1045., 1005.,  975., 1042.,  989.,  953., 1008.,  984.,\n",
              "         982.]),\n",
              " array([7.24496385e-05, 1.00063000e-01, 2.00053550e-01, 3.00044100e-01,\n",
              "        4.00034650e-01, 5.00025201e-01, 6.00015751e-01, 7.00006301e-01,\n",
              "        7.99996851e-01, 8.99987402e-01, 9.99977952e-01]),\n",
              " <a list of 10 Patch objects>)"
            ]
          },
          "metadata": {},
          "execution_count": 40
        },
        {
          "output_type": "display_data",
          "data": {
            "image/png": "[encoded data removed]",
            "text/plain": [
              "<Figure size 432x288 with 1 Axes>"
            ]
          },
          "metadata": {
            "needs_background": "light"
          }
        }
      ]
    },
    {
      "cell_type": "code",
      "metadata": {
        "colab": {
          "base_uri": "https://localhost:8080/",
          "height": 373
        },
        "id": "Qy9anlfG-fg7",
        "outputId": "595a58bc-a1fe-4425-fbab-767221514194"
      },
      "source": [
        "plt.hist(np.random.randn(1000000))"
      ],
      "execution_count": 41,
      "outputs": [
        {
          "output_type": "execute_result",
          "data": {
            "text/plain": [
              "(array([2.70000e+01, 9.22000e+02, 1.51750e+04, 1.01127e+05, 2.88663e+05,\n",
              "        3.56273e+05, 1.89956e+05, 4.34370e+04, 4.21500e+03, 2.05000e+02]),\n",
              " array([-4.99557343, -4.04386207, -3.09215071, -2.14043935, -1.18872799,\n",
              "        -0.23701663,  0.71469473,  1.66640609,  2.61811745,  3.56982881,\n",
              "         4.52154017]),\n",
              " <a list of 10 Patch objects>)"
            ]
          },
          "metadata": {},
          "execution_count": 41
        },
        {
          "output_type": "display_data",
          "data": {
            "image/png": "[encoded data removed]",
            "text/plain": [
              "<Figure size 432x288 with 1 Axes>"
            ]
          },
          "metadata": {
            "needs_background": "light"
          }
        }
      ]
    },
    {
      "cell_type": "markdown",
      "metadata": {
        "id": "LYthn3089aqD"
      },
      "source": [
        "## 보충 코드"
      ]
    },
    {
      "cell_type": "code",
      "metadata": {
        "id": "BUkVDXTJMkwc",
        "colab": {
          "base_uri": "https://localhost:8080/"
        },
        "outputId": "2b1413c0-b03c-488a-91e5-3f369c718caf"
      },
      "source": [
        "# np.max(np.random.randn(1000))\n",
        "n1000 = np.random.randint(0,10,1000)\n",
        "n1000"
      ],
      "execution_count": 42,
      "outputs": [
        {
          "output_type": "execute_result",
          "data": {
            "text/plain": [
              "array([0, 2, 8, 6, 2, 3, 4, 3, 3, 7, 8, 9, 8, 4, 6, 4, 2, 3, 5, 0, 7, 6,\n",
              "       7, 9, 7, 7, 4, 0, 1, 4, 4, 6, 8, 2, 9, 1, 5, 9, 3, 0, 9, 7, 3, 4,\n",
              "       3, 5, 9, 5, 4, 1, 8, 9, 9, 4, 1, 1, 4, 8, 8, 2, 6, 7, 6, 9, 9, 9,\n",
              "       6, 9, 1, 5, 1, 6, 5, 0, 6, 7, 5, 2, 2, 8, 5, 5, 7, 4, 3, 3, 3, 8,\n",
              "       1, 3, 8, 0, 1, 3, 1, 7, 4, 9, 9, 5, 0, 2, 5, 3, 6, 6, 8, 8, 1, 0,\n",
              "       1, 8, 0, 5, 2, 9, 0, 6, 5, 8, 9, 1, 0, 3, 0, 4, 2, 1, 8, 0, 2, 0,\n",
              "       0, 5, 9, 4, 4, 6, 1, 5, 3, 9, 7, 6, 8, 4, 8, 1, 6, 9, 6, 8, 6, 5,\n",
              "       4, 6, 0, 2, 6, 8, 6, 5, 4, 5, 4, 7, 5, 3, 6, 5, 3, 2, 3, 4, 2, 5,\n",
              "       4, 0, 1, 9, 7, 0, 9, 5, 7, 9, 5, 5, 9, 4, 6, 6, 1, 4, 8, 8, 8, 8,\n",
              "       3, 1, 1, 3, 4, 5, 8, 4, 1, 2, 2, 5, 6, 4, 9, 1, 8, 7, 3, 1, 5, 1,\n",
              "       9, 7, 2, 9, 3, 1, 1, 8, 9, 2, 6, 2, 6, 3, 4, 6, 9, 9, 4, 8, 1, 2,\n",
              "       9, 5, 7, 8, 6, 3, 7, 5, 6, 9, 2, 9, 7, 5, 1, 3, 3, 2, 4, 7, 6, 0,\n",
              "       5, 6, 7, 3, 9, 4, 6, 8, 5, 8, 5, 4, 5, 9, 2, 1, 3, 9, 9, 0, 3, 8,\n",
              "       7, 7, 4, 7, 9, 1, 1, 9, 0, 4, 3, 2, 6, 4, 4, 1, 5, 7, 5, 0, 9, 0,\n",
              "       7, 2, 1, 6, 9, 9, 5, 5, 7, 9, 0, 1, 6, 6, 4, 7, 4, 7, 4, 3, 0, 9,\n",
              "       8, 2, 4, 5, 8, 4, 4, 5, 4, 1, 7, 3, 4, 9, 9, 2, 1, 5, 8, 2, 6, 9,\n",
              "       9, 3, 9, 0, 9, 9, 0, 6, 2, 3, 1, 8, 8, 1, 8, 9, 1, 6, 6, 5, 0, 5,\n",
              "       1, 9, 5, 9, 2, 5, 7, 3, 9, 1, 7, 1, 8, 7, 5, 2, 0, 5, 7, 1, 0, 4,\n",
              "       6, 3, 8, 9, 7, 8, 4, 5, 8, 0, 0, 5, 9, 9, 0, 4, 5, 6, 8, 2, 8, 6,\n",
              "       5, 4, 7, 5, 2, 4, 6, 8, 3, 6, 2, 1, 2, 5, 8, 7, 0, 1, 0, 6, 2, 6,\n",
              "       5, 9, 3, 2, 4, 2, 7, 1, 5, 7, 9, 4, 6, 2, 5, 7, 4, 4, 9, 4, 1, 9,\n",
              "       8, 8, 7, 6, 1, 0, 8, 0, 7, 5, 6, 8, 1, 3, 6, 4, 7, 2, 9, 7, 8, 8,\n",
              "       9, 2, 2, 1, 0, 2, 5, 6, 0, 0, 2, 5, 4, 9, 3, 4, 9, 4, 3, 8, 3, 4,\n",
              "       1, 8, 7, 0, 3, 6, 1, 8, 5, 1, 9, 0, 5, 7, 1, 2, 0, 7, 6, 4, 8, 5,\n",
              "       6, 7, 1, 3, 2, 9, 2, 5, 7, 3, 0, 3, 8, 9, 1, 6, 8, 4, 2, 1, 9, 6,\n",
              "       6, 3, 7, 2, 6, 7, 0, 4, 5, 6, 9, 4, 0, 9, 5, 4, 3, 4, 7, 5, 2, 0,\n",
              "       5, 5, 1, 1, 4, 8, 9, 8, 4, 3, 2, 5, 6, 1, 3, 9, 9, 1, 2, 7, 4, 8,\n",
              "       6, 5, 1, 4, 4, 1, 2, 5, 9, 0, 4, 9, 9, 3, 6, 7, 1, 8, 5, 5, 3, 2,\n",
              "       6, 8, 9, 3, 8, 5, 9, 2, 8, 3, 4, 4, 9, 7, 6, 2, 8, 9, 8, 9, 2, 0,\n",
              "       3, 8, 1, 1, 1, 0, 7, 9, 4, 0, 5, 0, 0, 2, 5, 8, 4, 1, 5, 5, 9, 2,\n",
              "       6, 5, 0, 6, 0, 3, 6, 7, 4, 9, 3, 9, 7, 5, 6, 8, 1, 1, 5, 6, 2, 5,\n",
              "       3, 5, 6, 5, 0, 3, 4, 6, 2, 5, 5, 6, 4, 6, 5, 3, 9, 3, 9, 4, 6, 2,\n",
              "       4, 8, 6, 0, 4, 8, 6, 0, 4, 0, 4, 0, 9, 2, 3, 7, 1, 2, 4, 3, 7, 6,\n",
              "       4, 3, 8, 5, 0, 3, 4, 5, 1, 6, 1, 0, 0, 0, 5, 6, 5, 1, 6, 4, 9, 7,\n",
              "       4, 9, 2, 9, 6, 0, 9, 2, 6, 4, 5, 3, 8, 0, 8, 7, 9, 3, 6, 6, 7, 5,\n",
              "       9, 8, 1, 7, 6, 2, 3, 2, 0, 1, 7, 5, 1, 5, 5, 0, 0, 5, 6, 7, 7, 4,\n",
              "       9, 6, 4, 9, 1, 4, 2, 9, 9, 5, 2, 2, 3, 0, 8, 7, 4, 1, 4, 3, 6, 4,\n",
              "       6, 9, 4, 9, 5, 0, 2, 7, 0, 0, 8, 7, 0, 3, 0, 2, 9, 2, 3, 6, 1, 3,\n",
              "       3, 8, 2, 3, 6, 4, 2, 4, 0, 3, 7, 1, 1, 3, 3, 6, 2, 6, 7, 5, 9, 3,\n",
              "       0, 2, 1, 9, 6, 5, 2, 9, 9, 4, 4, 7, 5, 0, 7, 5, 3, 5, 0, 7, 8, 7,\n",
              "       9, 6, 0, 2, 1, 0, 3, 1, 2, 0, 8, 4, 3, 9, 5, 7, 5, 1, 1, 0, 8, 1,\n",
              "       6, 2, 2, 9, 2, 5, 2, 8, 9, 7, 9, 7, 8, 3, 6, 6, 6, 7, 2, 8, 0, 1,\n",
              "       9, 8, 3, 6, 5, 3, 9, 4, 7, 3, 1, 5, 3, 8, 8, 6, 6, 1, 1, 9, 2, 1,\n",
              "       1, 2, 8, 1, 1, 0, 8, 1, 0, 7, 5, 5, 2, 9, 1, 5, 9, 5, 0, 2, 7, 5,\n",
              "       2, 7, 9, 6, 8, 0, 1, 0, 9, 2, 1, 4, 1, 6, 1, 9, 6, 8, 2, 2, 6, 5,\n",
              "       7, 8, 5, 9, 7, 7, 0, 9, 0, 0])"
            ]
          },
          "metadata": {},
          "execution_count": 42
        }
      ]
    },
    {
      "cell_type": "code",
      "metadata": {
        "id": "xza_yV8nMshU"
      },
      "source": [
        "value, count= np.unique(n1000, return_counts=True)"
      ],
      "execution_count": 43,
      "outputs": []
    },
    {
      "cell_type": "code",
      "metadata": {
        "id": "al1pM1aK9Vk7",
        "colab": {
          "base_uri": "https://localhost:8080/"
        },
        "outputId": "41214daf-e9bf-4fa9-df03-a0f9a995bb6c"
      },
      "source": [
        "value, count # 두번째꺼는 빈도를 얘기한다.\n"
      ],
      "execution_count": 44,
      "outputs": [
        {
          "output_type": "execute_result",
          "data": {
            "text/plain": [
              "(array([0, 1, 2, 3, 4, 5, 6, 7, 8, 9]),\n",
              " array([ 92, 102,  94,  87, 102, 116, 107,  87,  92, 121]))"
            ]
          },
          "metadata": {},
          "execution_count": 44
        }
      ]
    }
  ]
}