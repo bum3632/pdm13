{
  "nbformat": 4,
  "nbformat_minor": 0,
  "metadata": {
    "kernelspec": {
      "name": "python3",
      "display_name": "Python 3"
    },
    "language_info": {
      "codemirror_mode": {
        "name": "ipython",
        "version": 3
      },
      "file_extension": ".py",
      "mimetype": "text/x-python",
      "name": "python",
      "nbconvert_exporter": "python",
      "pygments_lexer": "ipython3",
      "version": "3.6.6"
    },
    "colab": {
      "name": "pandas_2_handling_df.ipynb",
      "provenance": [],
      "collapsed_sections": [],
      "include_colab_link": true
    }
  },
  "cells": [
    {
      "cell_type": "markdown",
      "metadata": {
        "id": "view-in-github",
        "colab_type": "text"
      },
      "source": [
        "<a href=\"https://colab.research.google.com/github/bum3632/pdm13/blob/main/py-pandas/pandas_2_handling_df.ipynb\" target=\"_parent\"><img src=\"https://colab.research.google.com/assets/colab-badge.svg\" alt=\"Open In Colab\"/></a>"
      ]
    },
    {
      "cell_type": "markdown",
      "metadata": {
        "id": "-a_Ksvwdx5pf"
      },
      "source": [
        "### Python module 3. **pandas**"
      ]
    },
    {
      "cell_type": "markdown",
      "metadata": {
        "id": "P_F0RSPKx5pl"
      },
      "source": [
        "# Using pandas"
      ]
    },
    {
      "cell_type": "markdown",
      "metadata": {
        "id": "FfxMgWUFx5pm"
      },
      "source": [
        "* [10 Minutes to pandas](https://pandas.pydata.org/pandas-docs/stable/10min.html)\n",
        "* [Pandas tutorial with interactive exercises](https://www.kaggle.com/pistak/pandas-tutorial-with-interactive-exercises)"
      ]
    },
    {
      "cell_type": "code",
      "metadata": {
        "id": "2mpGSeRlx5po"
      },
      "source": [
        "import pandas as pd\n",
        "import numpy as np\n",
        "import matplotlib.pyplot as plt\n",
        "# %matplotlib inline  # work for Jupyter notebook or lab"
      ],
      "execution_count": 1,
      "outputs": []
    },
    {
      "cell_type": "markdown",
      "metadata": {
        "id": "wq1nIp3F1fFB"
      },
      "source": [
        "\n",
        "\n",
        "---\n",
        "\n"
      ]
    },
    {
      "cell_type": "markdown",
      "metadata": {
        "id": "D3zoFQ4bx5qh"
      },
      "source": [
        "## [2] Handling DataFrame\n",
        "- head()\n",
        "- tail()\n",
        "- describe()\n",
        "- info()"
      ]
    },
    {
      "cell_type": "code",
      "metadata": {
        "id": "w2eNkCfLx5p-",
        "colab": {
          "base_uri": "https://localhost:8080/"
        },
        "outputId": "87481f3a-ac86-405f-b4d5-58c10d143066"
      },
      "source": [
        "# Creating a DataFrame by passing a NumPy array, with a datetime index and labeled columns:\n",
        "dates = pd.date_range('20210927', periods=6)\n",
        "dates"
      ],
      "execution_count": 2,
      "outputs": [
        {
          "output_type": "execute_result",
          "data": {
            "text/plain": [
              "DatetimeIndex(['2021-09-27', '2021-09-28', '2021-09-29', '2021-09-30',\n",
              "               '2021-10-01', '2021-10-02'],\n",
              "              dtype='datetime64[ns]', freq='D')"
            ]
          },
          "metadata": {},
          "execution_count": 2
        }
      ]
    },
    {
      "cell_type": "code",
      "metadata": {
        "id": "dHwUodTGx5qj",
        "colab": {
          "base_uri": "https://localhost:8080/",
          "height": 235
        },
        "outputId": "e1a1e600-da9f-4c3b-b160-47d107f139a8"
      },
      "source": [
        "# head()\n",
        "df = pd.DataFrame(np.random.randn(6,4), index=dates, columns=list('ABCD'))\n",
        "df.head(7)"
      ],
      "execution_count": 5,
      "outputs": [
        {
          "output_type": "execute_result",
          "data": {
            "text/html": [
              "<div>\n",
              "<style scoped>\n",
              "    .dataframe tbody tr th:only-of-type {\n",
              "        vertical-align: middle;\n",
              "    }\n",
              "\n",
              "    .dataframe tbody tr th {\n",
              "        vertical-align: top;\n",
              "    }\n",
              "\n",
              "    .dataframe thead th {\n",
              "        text-align: right;\n",
              "    }\n",
              "</style>\n",
              "<table border=\"1\" class=\"dataframe\">\n",
              "  <thead>\n",
              "    <tr style=\"text-align: right;\">\n",
              "      <th></th>\n",
              "      <th>A</th>\n",
              "      <th>B</th>\n",
              "      <th>C</th>\n",
              "      <th>D</th>\n",
              "    </tr>\n",
              "  </thead>\n",
              "  <tbody>\n",
              "    <tr>\n",
              "      <th>2021-09-27</th>\n",
              "      <td>-2.109398</td>\n",
              "      <td>1.148560</td>\n",
              "      <td>-0.433787</td>\n",
              "      <td>-1.061523</td>\n",
              "    </tr>\n",
              "    <tr>\n",
              "      <th>2021-09-28</th>\n",
              "      <td>-1.151504</td>\n",
              "      <td>-0.309128</td>\n",
              "      <td>-0.320549</td>\n",
              "      <td>-1.260499</td>\n",
              "    </tr>\n",
              "    <tr>\n",
              "      <th>2021-09-29</th>\n",
              "      <td>-1.316030</td>\n",
              "      <td>0.326640</td>\n",
              "      <td>0.560517</td>\n",
              "      <td>1.915551</td>\n",
              "    </tr>\n",
              "    <tr>\n",
              "      <th>2021-09-30</th>\n",
              "      <td>-0.658513</td>\n",
              "      <td>-1.470793</td>\n",
              "      <td>-0.735181</td>\n",
              "      <td>1.267662</td>\n",
              "    </tr>\n",
              "    <tr>\n",
              "      <th>2021-10-01</th>\n",
              "      <td>-0.227859</td>\n",
              "      <td>0.464109</td>\n",
              "      <td>0.868542</td>\n",
              "      <td>0.091949</td>\n",
              "    </tr>\n",
              "    <tr>\n",
              "      <th>2021-10-02</th>\n",
              "      <td>-0.086846</td>\n",
              "      <td>-0.662293</td>\n",
              "      <td>-0.671160</td>\n",
              "      <td>0.986184</td>\n",
              "    </tr>\n",
              "  </tbody>\n",
              "</table>\n",
              "</div>"
            ],
            "text/plain": [
              "                   A         B         C         D\n",
              "2021-09-27 -2.109398  1.148560 -0.433787 -1.061523\n",
              "2021-09-28 -1.151504 -0.309128 -0.320549 -1.260499\n",
              "2021-09-29 -1.316030  0.326640  0.560517  1.915551\n",
              "2021-09-30 -0.658513 -1.470793 -0.735181  1.267662\n",
              "2021-10-01 -0.227859  0.464109  0.868542  0.091949\n",
              "2021-10-02 -0.086846 -0.662293 -0.671160  0.986184"
            ]
          },
          "metadata": {},
          "execution_count": 5
        }
      ]
    },
    {
      "cell_type": "code",
      "metadata": {
        "id": "OvYDoBVE1og9",
        "colab": {
          "base_uri": "https://localhost:8080/",
          "height": 111
        },
        "outputId": "189db52f-06e8-41a4-b33d-9f076e31c9eb"
      },
      "source": [
        "df.head(2)"
      ],
      "execution_count": 6,
      "outputs": [
        {
          "output_type": "execute_result",
          "data": {
            "text/html": [
              "<div>\n",
              "<style scoped>\n",
              "    .dataframe tbody tr th:only-of-type {\n",
              "        vertical-align: middle;\n",
              "    }\n",
              "\n",
              "    .dataframe tbody tr th {\n",
              "        vertical-align: top;\n",
              "    }\n",
              "\n",
              "    .dataframe thead th {\n",
              "        text-align: right;\n",
              "    }\n",
              "</style>\n",
              "<table border=\"1\" class=\"dataframe\">\n",
              "  <thead>\n",
              "    <tr style=\"text-align: right;\">\n",
              "      <th></th>\n",
              "      <th>A</th>\n",
              "      <th>B</th>\n",
              "      <th>C</th>\n",
              "      <th>D</th>\n",
              "    </tr>\n",
              "  </thead>\n",
              "  <tbody>\n",
              "    <tr>\n",
              "      <th>2021-09-27</th>\n",
              "      <td>-2.109398</td>\n",
              "      <td>1.148560</td>\n",
              "      <td>-0.433787</td>\n",
              "      <td>-1.061523</td>\n",
              "    </tr>\n",
              "    <tr>\n",
              "      <th>2021-09-28</th>\n",
              "      <td>-1.151504</td>\n",
              "      <td>-0.309128</td>\n",
              "      <td>-0.320549</td>\n",
              "      <td>-1.260499</td>\n",
              "    </tr>\n",
              "  </tbody>\n",
              "</table>\n",
              "</div>"
            ],
            "text/plain": [
              "                   A         B         C         D\n",
              "2021-09-27 -2.109398  1.148560 -0.433787 -1.061523\n",
              "2021-09-28 -1.151504 -0.309128 -0.320549 -1.260499"
            ]
          },
          "metadata": {},
          "execution_count": 6
        }
      ]
    },
    {
      "cell_type": "code",
      "metadata": {
        "id": "LzWwuDWDx5qo",
        "colab": {
          "base_uri": "https://localhost:8080/",
          "height": 142
        },
        "outputId": "56f75676-400e-4fcb-c7f9-e859c22232fb"
      },
      "source": [
        "df.tail(3) #아래쪽에서 3개"
      ],
      "execution_count": 7,
      "outputs": [
        {
          "output_type": "execute_result",
          "data": {
            "text/html": [
              "<div>\n",
              "<style scoped>\n",
              "    .dataframe tbody tr th:only-of-type {\n",
              "        vertical-align: middle;\n",
              "    }\n",
              "\n",
              "    .dataframe tbody tr th {\n",
              "        vertical-align: top;\n",
              "    }\n",
              "\n",
              "    .dataframe thead th {\n",
              "        text-align: right;\n",
              "    }\n",
              "</style>\n",
              "<table border=\"1\" class=\"dataframe\">\n",
              "  <thead>\n",
              "    <tr style=\"text-align: right;\">\n",
              "      <th></th>\n",
              "      <th>A</th>\n",
              "      <th>B</th>\n",
              "      <th>C</th>\n",
              "      <th>D</th>\n",
              "    </tr>\n",
              "  </thead>\n",
              "  <tbody>\n",
              "    <tr>\n",
              "      <th>2021-09-30</th>\n",
              "      <td>-0.658513</td>\n",
              "      <td>-1.470793</td>\n",
              "      <td>-0.735181</td>\n",
              "      <td>1.267662</td>\n",
              "    </tr>\n",
              "    <tr>\n",
              "      <th>2021-10-01</th>\n",
              "      <td>-0.227859</td>\n",
              "      <td>0.464109</td>\n",
              "      <td>0.868542</td>\n",
              "      <td>0.091949</td>\n",
              "    </tr>\n",
              "    <tr>\n",
              "      <th>2021-10-02</th>\n",
              "      <td>-0.086846</td>\n",
              "      <td>-0.662293</td>\n",
              "      <td>-0.671160</td>\n",
              "      <td>0.986184</td>\n",
              "    </tr>\n",
              "  </tbody>\n",
              "</table>\n",
              "</div>"
            ],
            "text/plain": [
              "                   A         B         C         D\n",
              "2021-09-30 -0.658513 -1.470793 -0.735181  1.267662\n",
              "2021-10-01 -0.227859  0.464109  0.868542  0.091949\n",
              "2021-10-02 -0.086846 -0.662293 -0.671160  0.986184"
            ]
          },
          "metadata": {},
          "execution_count": 7
        }
      ]
    },
    {
      "cell_type": "code",
      "metadata": {
        "id": "rJLH024Zx5qs",
        "colab": {
          "base_uri": "https://localhost:8080/"
        },
        "outputId": "100f7823-faf0-4267-876b-d37798089b9a"
      },
      "source": [
        "# Display the index, columns, and the underlying NumPy data:\n",
        "df.index"
      ],
      "execution_count": 8,
      "outputs": [
        {
          "output_type": "execute_result",
          "data": {
            "text/plain": [
              "DatetimeIndex(['2021-09-27', '2021-09-28', '2021-09-29', '2021-09-30',\n",
              "               '2021-10-01', '2021-10-02'],\n",
              "              dtype='datetime64[ns]', freq='D')"
            ]
          },
          "metadata": {},
          "execution_count": 8
        }
      ]
    },
    {
      "cell_type": "code",
      "metadata": {
        "id": "edrGpQlLc0dt",
        "colab": {
          "base_uri": "https://localhost:8080/"
        },
        "outputId": "90463fd3-9e58-4c05-afe6-70eb826273b6"
      },
      "source": [
        "df.columns"
      ],
      "execution_count": 9,
      "outputs": [
        {
          "output_type": "execute_result",
          "data": {
            "text/plain": [
              "Index(['A', 'B', 'C', 'D'], dtype='object')"
            ]
          },
          "metadata": {},
          "execution_count": 9
        }
      ]
    },
    {
      "cell_type": "code",
      "metadata": {
        "id": "TB-CHW85x5rA",
        "colab": {
          "base_uri": "https://localhost:8080/"
        },
        "outputId": "eb35c52d-43d4-4c8e-d133-becf179a4aa5"
      },
      "source": [
        "df.info()"
      ],
      "execution_count": 10,
      "outputs": [
        {
          "output_type": "stream",
          "name": "stdout",
          "text": [
            "<class 'pandas.core.frame.DataFrame'>\n",
            "DatetimeIndex: 6 entries, 2021-09-27 to 2021-10-02\n",
            "Freq: D\n",
            "Data columns (total 4 columns):\n",
            " #   Column  Non-Null Count  Dtype  \n",
            "---  ------  --------------  -----  \n",
            " 0   A       6 non-null      float64\n",
            " 1   B       6 non-null      float64\n",
            " 2   C       6 non-null      float64\n",
            " 3   D       6 non-null      float64\n",
            "dtypes: float64(4)\n",
            "memory usage: 240.0 bytes\n"
          ]
        }
      ]
    },
    {
      "cell_type": "code",
      "metadata": {
        "id": "PEzVmjUAx5q7",
        "colab": {
          "base_uri": "https://localhost:8080/",
          "height": 297
        },
        "outputId": "0b51df50-811a-4c4b-f6e8-06b388f98b3e"
      },
      "source": [
        "# describe() shows a quick statistic summary of your data:\n",
        "df.describe()"
      ],
      "execution_count": 11,
      "outputs": [
        {
          "output_type": "execute_result",
          "data": {
            "text/html": [
              "<div>\n",
              "<style scoped>\n",
              "    .dataframe tbody tr th:only-of-type {\n",
              "        vertical-align: middle;\n",
              "    }\n",
              "\n",
              "    .dataframe tbody tr th {\n",
              "        vertical-align: top;\n",
              "    }\n",
              "\n",
              "    .dataframe thead th {\n",
              "        text-align: right;\n",
              "    }\n",
              "</style>\n",
              "<table border=\"1\" class=\"dataframe\">\n",
              "  <thead>\n",
              "    <tr style=\"text-align: right;\">\n",
              "      <th></th>\n",
              "      <th>A</th>\n",
              "      <th>B</th>\n",
              "      <th>C</th>\n",
              "      <th>D</th>\n",
              "    </tr>\n",
              "  </thead>\n",
              "  <tbody>\n",
              "    <tr>\n",
              "      <th>count</th>\n",
              "      <td>6.000000</td>\n",
              "      <td>6.000000</td>\n",
              "      <td>6.000000</td>\n",
              "      <td>6.000000</td>\n",
              "    </tr>\n",
              "    <tr>\n",
              "      <th>mean</th>\n",
              "      <td>-0.925025</td>\n",
              "      <td>-0.083817</td>\n",
              "      <td>-0.121936</td>\n",
              "      <td>0.323221</td>\n",
              "    </tr>\n",
              "    <tr>\n",
              "      <th>std</th>\n",
              "      <td>0.757170</td>\n",
              "      <td>0.926990</td>\n",
              "      <td>0.672488</td>\n",
              "      <td>1.291989</td>\n",
              "    </tr>\n",
              "    <tr>\n",
              "      <th>min</th>\n",
              "      <td>-2.109398</td>\n",
              "      <td>-1.470793</td>\n",
              "      <td>-0.735181</td>\n",
              "      <td>-1.260499</td>\n",
              "    </tr>\n",
              "    <tr>\n",
              "      <th>25%</th>\n",
              "      <td>-1.274899</td>\n",
              "      <td>-0.574001</td>\n",
              "      <td>-0.611817</td>\n",
              "      <td>-0.773155</td>\n",
              "    </tr>\n",
              "    <tr>\n",
              "      <th>50%</th>\n",
              "      <td>-0.905009</td>\n",
              "      <td>0.008756</td>\n",
              "      <td>-0.377168</td>\n",
              "      <td>0.539067</td>\n",
              "    </tr>\n",
              "    <tr>\n",
              "      <th>75%</th>\n",
              "      <td>-0.335522</td>\n",
              "      <td>0.429741</td>\n",
              "      <td>0.340251</td>\n",
              "      <td>1.197292</td>\n",
              "    </tr>\n",
              "    <tr>\n",
              "      <th>max</th>\n",
              "      <td>-0.086846</td>\n",
              "      <td>1.148560</td>\n",
              "      <td>0.868542</td>\n",
              "      <td>1.915551</td>\n",
              "    </tr>\n",
              "  </tbody>\n",
              "</table>\n",
              "</div>"
            ],
            "text/plain": [
              "              A         B         C         D\n",
              "count  6.000000  6.000000  6.000000  6.000000\n",
              "mean  -0.925025 -0.083817 -0.121936  0.323221\n",
              "std    0.757170  0.926990  0.672488  1.291989\n",
              "min   -2.109398 -1.470793 -0.735181 -1.260499\n",
              "25%   -1.274899 -0.574001 -0.611817 -0.773155\n",
              "50%   -0.905009  0.008756 -0.377168  0.539067\n",
              "75%   -0.335522  0.429741  0.340251  1.197292\n",
              "max   -0.086846  1.148560  0.868542  1.915551"
            ]
          },
          "metadata": {},
          "execution_count": 11
        }
      ]
    },
    {
      "cell_type": "code",
      "metadata": {
        "id": "ExhpF6H8dDKo",
        "colab": {
          "base_uri": "https://localhost:8080/",
          "height": 173
        },
        "outputId": "3ecd3f89-0e95-43a1-8a52-2059c4a231de"
      },
      "source": [
        "df.describe().T"
      ],
      "execution_count": 12,
      "outputs": [
        {
          "output_type": "execute_result",
          "data": {
            "text/html": [
              "<div>\n",
              "<style scoped>\n",
              "    .dataframe tbody tr th:only-of-type {\n",
              "        vertical-align: middle;\n",
              "    }\n",
              "\n",
              "    .dataframe tbody tr th {\n",
              "        vertical-align: top;\n",
              "    }\n",
              "\n",
              "    .dataframe thead th {\n",
              "        text-align: right;\n",
              "    }\n",
              "</style>\n",
              "<table border=\"1\" class=\"dataframe\">\n",
              "  <thead>\n",
              "    <tr style=\"text-align: right;\">\n",
              "      <th></th>\n",
              "      <th>count</th>\n",
              "      <th>mean</th>\n",
              "      <th>std</th>\n",
              "      <th>min</th>\n",
              "      <th>25%</th>\n",
              "      <th>50%</th>\n",
              "      <th>75%</th>\n",
              "      <th>max</th>\n",
              "    </tr>\n",
              "  </thead>\n",
              "  <tbody>\n",
              "    <tr>\n",
              "      <th>A</th>\n",
              "      <td>6.0</td>\n",
              "      <td>-0.925025</td>\n",
              "      <td>0.757170</td>\n",
              "      <td>-2.109398</td>\n",
              "      <td>-1.274899</td>\n",
              "      <td>-0.905009</td>\n",
              "      <td>-0.335522</td>\n",
              "      <td>-0.086846</td>\n",
              "    </tr>\n",
              "    <tr>\n",
              "      <th>B</th>\n",
              "      <td>6.0</td>\n",
              "      <td>-0.083817</td>\n",
              "      <td>0.926990</td>\n",
              "      <td>-1.470793</td>\n",
              "      <td>-0.574001</td>\n",
              "      <td>0.008756</td>\n",
              "      <td>0.429741</td>\n",
              "      <td>1.148560</td>\n",
              "    </tr>\n",
              "    <tr>\n",
              "      <th>C</th>\n",
              "      <td>6.0</td>\n",
              "      <td>-0.121936</td>\n",
              "      <td>0.672488</td>\n",
              "      <td>-0.735181</td>\n",
              "      <td>-0.611817</td>\n",
              "      <td>-0.377168</td>\n",
              "      <td>0.340251</td>\n",
              "      <td>0.868542</td>\n",
              "    </tr>\n",
              "    <tr>\n",
              "      <th>D</th>\n",
              "      <td>6.0</td>\n",
              "      <td>0.323221</td>\n",
              "      <td>1.291989</td>\n",
              "      <td>-1.260499</td>\n",
              "      <td>-0.773155</td>\n",
              "      <td>0.539067</td>\n",
              "      <td>1.197292</td>\n",
              "      <td>1.915551</td>\n",
              "    </tr>\n",
              "  </tbody>\n",
              "</table>\n",
              "</div>"
            ],
            "text/plain": [
              "   count      mean       std       min       25%       50%       75%       max\n",
              "A    6.0 -0.925025  0.757170 -2.109398 -1.274899 -0.905009 -0.335522 -0.086846\n",
              "B    6.0 -0.083817  0.926990 -1.470793 -0.574001  0.008756  0.429741  1.148560\n",
              "C    6.0 -0.121936  0.672488 -0.735181 -0.611817 -0.377168  0.340251  0.868542\n",
              "D    6.0  0.323221  1.291989 -1.260499 -0.773155  0.539067  1.197292  1.915551"
            ]
          },
          "metadata": {},
          "execution_count": 12
        }
      ]
    },
    {
      "cell_type": "code",
      "metadata": {
        "colab": {
          "base_uri": "https://localhost:8080/",
          "height": 235
        },
        "id": "TepXu4OLzYAY",
        "outputId": "b72a2ab9-8cac-4361-b84f-deda6dc39930"
      },
      "source": [
        "df"
      ],
      "execution_count": 13,
      "outputs": [
        {
          "output_type": "execute_result",
          "data": {
            "text/html": [
              "<div>\n",
              "<style scoped>\n",
              "    .dataframe tbody tr th:only-of-type {\n",
              "        vertical-align: middle;\n",
              "    }\n",
              "\n",
              "    .dataframe tbody tr th {\n",
              "        vertical-align: top;\n",
              "    }\n",
              "\n",
              "    .dataframe thead th {\n",
              "        text-align: right;\n",
              "    }\n",
              "</style>\n",
              "<table border=\"1\" class=\"dataframe\">\n",
              "  <thead>\n",
              "    <tr style=\"text-align: right;\">\n",
              "      <th></th>\n",
              "      <th>A</th>\n",
              "      <th>B</th>\n",
              "      <th>C</th>\n",
              "      <th>D</th>\n",
              "    </tr>\n",
              "  </thead>\n",
              "  <tbody>\n",
              "    <tr>\n",
              "      <th>2021-09-27</th>\n",
              "      <td>-2.109398</td>\n",
              "      <td>1.148560</td>\n",
              "      <td>-0.433787</td>\n",
              "      <td>-1.061523</td>\n",
              "    </tr>\n",
              "    <tr>\n",
              "      <th>2021-09-28</th>\n",
              "      <td>-1.151504</td>\n",
              "      <td>-0.309128</td>\n",
              "      <td>-0.320549</td>\n",
              "      <td>-1.260499</td>\n",
              "    </tr>\n",
              "    <tr>\n",
              "      <th>2021-09-29</th>\n",
              "      <td>-1.316030</td>\n",
              "      <td>0.326640</td>\n",
              "      <td>0.560517</td>\n",
              "      <td>1.915551</td>\n",
              "    </tr>\n",
              "    <tr>\n",
              "      <th>2021-09-30</th>\n",
              "      <td>-0.658513</td>\n",
              "      <td>-1.470793</td>\n",
              "      <td>-0.735181</td>\n",
              "      <td>1.267662</td>\n",
              "    </tr>\n",
              "    <tr>\n",
              "      <th>2021-10-01</th>\n",
              "      <td>-0.227859</td>\n",
              "      <td>0.464109</td>\n",
              "      <td>0.868542</td>\n",
              "      <td>0.091949</td>\n",
              "    </tr>\n",
              "    <tr>\n",
              "      <th>2021-10-02</th>\n",
              "      <td>-0.086846</td>\n",
              "      <td>-0.662293</td>\n",
              "      <td>-0.671160</td>\n",
              "      <td>0.986184</td>\n",
              "    </tr>\n",
              "  </tbody>\n",
              "</table>\n",
              "</div>"
            ],
            "text/plain": [
              "                   A         B         C         D\n",
              "2021-09-27 -2.109398  1.148560 -0.433787 -1.061523\n",
              "2021-09-28 -1.151504 -0.309128 -0.320549 -1.260499\n",
              "2021-09-29 -1.316030  0.326640  0.560517  1.915551\n",
              "2021-09-30 -0.658513 -1.470793 -0.735181  1.267662\n",
              "2021-10-01 -0.227859  0.464109  0.868542  0.091949\n",
              "2021-10-02 -0.086846 -0.662293 -0.671160  0.986184"
            ]
          },
          "metadata": {},
          "execution_count": 13
        }
      ]
    },
    {
      "cell_type": "code",
      "metadata": {
        "id": "Br9VwFVex5rE",
        "colab": {
          "base_uri": "https://localhost:8080/",
          "height": 173
        },
        "outputId": "46b84fa4-006b-4c90-d0e0-506a987c0ee0"
      },
      "source": [
        "# Transposing your dataframe:\n",
        "df.T"
      ],
      "execution_count": 14,
      "outputs": [
        {
          "output_type": "execute_result",
          "data": {
            "text/html": [
              "<div>\n",
              "<style scoped>\n",
              "    .dataframe tbody tr th:only-of-type {\n",
              "        vertical-align: middle;\n",
              "    }\n",
              "\n",
              "    .dataframe tbody tr th {\n",
              "        vertical-align: top;\n",
              "    }\n",
              "\n",
              "    .dataframe thead th {\n",
              "        text-align: right;\n",
              "    }\n",
              "</style>\n",
              "<table border=\"1\" class=\"dataframe\">\n",
              "  <thead>\n",
              "    <tr style=\"text-align: right;\">\n",
              "      <th></th>\n",
              "      <th>2021-09-27</th>\n",
              "      <th>2021-09-28</th>\n",
              "      <th>2021-09-29</th>\n",
              "      <th>2021-09-30</th>\n",
              "      <th>2021-10-01</th>\n",
              "      <th>2021-10-02</th>\n",
              "    </tr>\n",
              "  </thead>\n",
              "  <tbody>\n",
              "    <tr>\n",
              "      <th>A</th>\n",
              "      <td>-2.109398</td>\n",
              "      <td>-1.151504</td>\n",
              "      <td>-1.316030</td>\n",
              "      <td>-0.658513</td>\n",
              "      <td>-0.227859</td>\n",
              "      <td>-0.086846</td>\n",
              "    </tr>\n",
              "    <tr>\n",
              "      <th>B</th>\n",
              "      <td>1.148560</td>\n",
              "      <td>-0.309128</td>\n",
              "      <td>0.326640</td>\n",
              "      <td>-1.470793</td>\n",
              "      <td>0.464109</td>\n",
              "      <td>-0.662293</td>\n",
              "    </tr>\n",
              "    <tr>\n",
              "      <th>C</th>\n",
              "      <td>-0.433787</td>\n",
              "      <td>-0.320549</td>\n",
              "      <td>0.560517</td>\n",
              "      <td>-0.735181</td>\n",
              "      <td>0.868542</td>\n",
              "      <td>-0.671160</td>\n",
              "    </tr>\n",
              "    <tr>\n",
              "      <th>D</th>\n",
              "      <td>-1.061523</td>\n",
              "      <td>-1.260499</td>\n",
              "      <td>1.915551</td>\n",
              "      <td>1.267662</td>\n",
              "      <td>0.091949</td>\n",
              "      <td>0.986184</td>\n",
              "    </tr>\n",
              "  </tbody>\n",
              "</table>\n",
              "</div>"
            ],
            "text/plain": [
              "   2021-09-27  2021-09-28  2021-09-29  2021-09-30  2021-10-01  2021-10-02\n",
              "A   -2.109398   -1.151504   -1.316030   -0.658513   -0.227859   -0.086846\n",
              "B    1.148560   -0.309128    0.326640   -1.470793    0.464109   -0.662293\n",
              "C   -0.433787   -0.320549    0.560517   -0.735181    0.868542   -0.671160\n",
              "D   -1.061523   -1.260499    1.915551    1.267662    0.091949    0.986184"
            ]
          },
          "metadata": {},
          "execution_count": 14
        }
      ]
    },
    {
      "cell_type": "code",
      "metadata": {
        "id": "vkg1gQUVLoy9",
        "colab": {
          "base_uri": "https://localhost:8080/"
        },
        "outputId": "9a5d7a23-e341-412f-85cc-099c9b433aa4"
      },
      "source": [
        "df.T.index"
      ],
      "execution_count": 15,
      "outputs": [
        {
          "output_type": "execute_result",
          "data": {
            "text/plain": [
              "Index(['A', 'B', 'C', 'D'], dtype='object')"
            ]
          },
          "metadata": {},
          "execution_count": 15
        }
      ]
    },
    {
      "cell_type": "markdown",
      "metadata": {
        "id": "A4lHGd4px5rU"
      },
      "source": [
        "### Sorting"
      ]
    },
    {
      "cell_type": "markdown",
      "metadata": {
        "id": "jlXuIbzD6oUD"
      },
      "source": [
        "#### Sort by index\n",
        "- sort_index(axis=0, ascending=False)\n",
        "- sort_index(axis=1, ascending=False)\n",
        "\n",
        "> Axis=0 Column-Wise Operation (수직으로)\n",
        "\n",
        "> Axis=1 Row-Wise Operation (수평으로)"
      ]
    },
    {
      "cell_type": "code",
      "metadata": {
        "colab": {
          "base_uri": "https://localhost:8080/",
          "height": 235
        },
        "id": "f6Scc9jI2GTW",
        "outputId": "0e9a5761-a008-45b4-8999-13d5cf2a0665"
      },
      "source": [
        "df"
      ],
      "execution_count": 16,
      "outputs": [
        {
          "output_type": "execute_result",
          "data": {
            "text/html": [
              "<div>\n",
              "<style scoped>\n",
              "    .dataframe tbody tr th:only-of-type {\n",
              "        vertical-align: middle;\n",
              "    }\n",
              "\n",
              "    .dataframe tbody tr th {\n",
              "        vertical-align: top;\n",
              "    }\n",
              "\n",
              "    .dataframe thead th {\n",
              "        text-align: right;\n",
              "    }\n",
              "</style>\n",
              "<table border=\"1\" class=\"dataframe\">\n",
              "  <thead>\n",
              "    <tr style=\"text-align: right;\">\n",
              "      <th></th>\n",
              "      <th>A</th>\n",
              "      <th>B</th>\n",
              "      <th>C</th>\n",
              "      <th>D</th>\n",
              "    </tr>\n",
              "  </thead>\n",
              "  <tbody>\n",
              "    <tr>\n",
              "      <th>2021-09-27</th>\n",
              "      <td>-2.109398</td>\n",
              "      <td>1.148560</td>\n",
              "      <td>-0.433787</td>\n",
              "      <td>-1.061523</td>\n",
              "    </tr>\n",
              "    <tr>\n",
              "      <th>2021-09-28</th>\n",
              "      <td>-1.151504</td>\n",
              "      <td>-0.309128</td>\n",
              "      <td>-0.320549</td>\n",
              "      <td>-1.260499</td>\n",
              "    </tr>\n",
              "    <tr>\n",
              "      <th>2021-09-29</th>\n",
              "      <td>-1.316030</td>\n",
              "      <td>0.326640</td>\n",
              "      <td>0.560517</td>\n",
              "      <td>1.915551</td>\n",
              "    </tr>\n",
              "    <tr>\n",
              "      <th>2021-09-30</th>\n",
              "      <td>-0.658513</td>\n",
              "      <td>-1.470793</td>\n",
              "      <td>-0.735181</td>\n",
              "      <td>1.267662</td>\n",
              "    </tr>\n",
              "    <tr>\n",
              "      <th>2021-10-01</th>\n",
              "      <td>-0.227859</td>\n",
              "      <td>0.464109</td>\n",
              "      <td>0.868542</td>\n",
              "      <td>0.091949</td>\n",
              "    </tr>\n",
              "    <tr>\n",
              "      <th>2021-10-02</th>\n",
              "      <td>-0.086846</td>\n",
              "      <td>-0.662293</td>\n",
              "      <td>-0.671160</td>\n",
              "      <td>0.986184</td>\n",
              "    </tr>\n",
              "  </tbody>\n",
              "</table>\n",
              "</div>"
            ],
            "text/plain": [
              "                   A         B         C         D\n",
              "2021-09-27 -2.109398  1.148560 -0.433787 -1.061523\n",
              "2021-09-28 -1.151504 -0.309128 -0.320549 -1.260499\n",
              "2021-09-29 -1.316030  0.326640  0.560517  1.915551\n",
              "2021-09-30 -0.658513 -1.470793 -0.735181  1.267662\n",
              "2021-10-01 -0.227859  0.464109  0.868542  0.091949\n",
              "2021-10-02 -0.086846 -0.662293 -0.671160  0.986184"
            ]
          },
          "metadata": {},
          "execution_count": 16
        }
      ]
    },
    {
      "cell_type": "code",
      "metadata": {
        "id": "RM9Rlk64x5rW",
        "colab": {
          "base_uri": "https://localhost:8080/"
        },
        "outputId": "21457c5f-82fd-4747-b256-d7d6d17a924a"
      },
      "source": [
        "# Sorting by an axis:\n",
        "df, df.sort_index(axis=0, ascending=False)"
      ],
      "execution_count": 18,
      "outputs": [
        {
          "output_type": "execute_result",
          "data": {
            "text/plain": [
              "(                   A         B         C         D\n",
              " 2021-09-27 -2.109398  1.148560 -0.433787 -1.061523\n",
              " 2021-09-28 -1.151504 -0.309128 -0.320549 -1.260499\n",
              " 2021-09-29 -1.316030  0.326640  0.560517  1.915551\n",
              " 2021-09-30 -0.658513 -1.470793 -0.735181  1.267662\n",
              " 2021-10-01 -0.227859  0.464109  0.868542  0.091949\n",
              " 2021-10-02 -0.086846 -0.662293 -0.671160  0.986184,\n",
              "                    A         B         C         D\n",
              " 2021-10-02 -0.086846 -0.662293 -0.671160  0.986184\n",
              " 2021-10-01 -0.227859  0.464109  0.868542  0.091949\n",
              " 2021-09-30 -0.658513 -1.470793 -0.735181  1.267662\n",
              " 2021-09-29 -1.316030  0.326640  0.560517  1.915551\n",
              " 2021-09-28 -1.151504 -0.309128 -0.320549 -1.260499\n",
              " 2021-09-27 -2.109398  1.148560 -0.433787 -1.061523)"
            ]
          },
          "metadata": {},
          "execution_count": 18
        }
      ]
    },
    {
      "cell_type": "code",
      "metadata": {
        "id": "w_7d__Hsx5rb",
        "colab": {
          "base_uri": "https://localhost:8080/"
        },
        "outputId": "b808a48d-67b3-45e7-b3b0-a0fe62abe5c9"
      },
      "source": [
        "df,df.sort_index(axis=1)#, ascending=False)"
      ],
      "execution_count": 20,
      "outputs": [
        {
          "output_type": "execute_result",
          "data": {
            "text/plain": [
              "(                   A         B         C         D\n",
              " 2021-09-27 -2.109398  1.148560 -0.433787 -1.061523\n",
              " 2021-09-28 -1.151504 -0.309128 -0.320549 -1.260499\n",
              " 2021-09-29 -1.316030  0.326640  0.560517  1.915551\n",
              " 2021-09-30 -0.658513 -1.470793 -0.735181  1.267662\n",
              " 2021-10-01 -0.227859  0.464109  0.868542  0.091949\n",
              " 2021-10-02 -0.086846 -0.662293 -0.671160  0.986184,\n",
              "                    A         B         C         D\n",
              " 2021-09-27 -2.109398  1.148560 -0.433787 -1.061523\n",
              " 2021-09-28 -1.151504 -0.309128 -0.320549 -1.260499\n",
              " 2021-09-29 -1.316030  0.326640  0.560517  1.915551\n",
              " 2021-09-30 -0.658513 -1.470793 -0.735181  1.267662\n",
              " 2021-10-01 -0.227859  0.464109  0.868542  0.091949\n",
              " 2021-10-02 -0.086846 -0.662293 -0.671160  0.986184)"
            ]
          },
          "metadata": {},
          "execution_count": 20
        }
      ]
    },
    {
      "cell_type": "markdown",
      "metadata": {
        "id": "8J59I-KW6yNK"
      },
      "source": [
        "#### Sort by value\n",
        "- sort_values(by='column')"
      ]
    },
    {
      "cell_type": "code",
      "metadata": {
        "id": "VJw7_sTLx5rg",
        "colab": {
          "base_uri": "https://localhost:8080/"
        },
        "outputId": "9393690b-51e9-4120-bbc7-a898dd373dcc"
      },
      "source": [
        "# Sorting by values:\n",
        "df,df.sort_values(by='B') #, ascending=False)"
      ],
      "execution_count": 21,
      "outputs": [
        {
          "output_type": "execute_result",
          "data": {
            "text/plain": [
              "(                   A         B         C         D\n",
              " 2021-09-27 -2.109398  1.148560 -0.433787 -1.061523\n",
              " 2021-09-28 -1.151504 -0.309128 -0.320549 -1.260499\n",
              " 2021-09-29 -1.316030  0.326640  0.560517  1.915551\n",
              " 2021-09-30 -0.658513 -1.470793 -0.735181  1.267662\n",
              " 2021-10-01 -0.227859  0.464109  0.868542  0.091949\n",
              " 2021-10-02 -0.086846 -0.662293 -0.671160  0.986184,\n",
              "                    A         B         C         D\n",
              " 2021-09-30 -0.658513 -1.470793 -0.735181  1.267662\n",
              " 2021-10-02 -0.086846 -0.662293 -0.671160  0.986184\n",
              " 2021-09-28 -1.151504 -0.309128 -0.320549 -1.260499\n",
              " 2021-09-29 -1.316030  0.326640  0.560517  1.915551\n",
              " 2021-10-01 -0.227859  0.464109  0.868542  0.091949\n",
              " 2021-09-27 -2.109398  1.148560 -0.433787 -1.061523)"
            ]
          },
          "metadata": {},
          "execution_count": 21
        }
      ]
    },
    {
      "cell_type": "markdown",
      "metadata": {
        "id": "rBW0-saPPGbN"
      },
      "source": [
        "## indexing and slicing of DataFrame"
      ]
    },
    {
      "cell_type": "markdown",
      "metadata": {
        "id": "oH89Wa-ix5rq"
      },
      "source": [
        "#### Selecting data by indexing and slicing\n",
        "- indexing\n",
        "- slicing\n"
      ]
    },
    {
      "cell_type": "code",
      "metadata": {
        "id": "YufIBMYzx5ru",
        "colab": {
          "base_uri": "https://localhost:8080/"
        },
        "outputId": "d3f9d833-6a19-4399-f638-1f91b332e41d"
      },
      "source": [
        "# Selecting a single column, which yields a Series\n",
        "df['A']"
      ],
      "execution_count": 22,
      "outputs": [
        {
          "output_type": "execute_result",
          "data": {
            "text/plain": [
              "2021-09-27   -2.109398\n",
              "2021-09-28   -1.151504\n",
              "2021-09-29   -1.316030\n",
              "2021-09-30   -0.658513\n",
              "2021-10-01   -0.227859\n",
              "2021-10-02   -0.086846\n",
              "Freq: D, Name: A, dtype: float64"
            ]
          },
          "metadata": {},
          "execution_count": 22
        }
      ]
    },
    {
      "cell_type": "code",
      "metadata": {
        "id": "ijxuNMS5x5r3",
        "colab": {
          "base_uri": "https://localhost:8080/",
          "height": 142
        },
        "outputId": "a55cf659-d4f9-4efc-95bc-3f2ecedc82f4"
      },
      "source": [
        "# Selecting via [], which slices the rows.\n",
        "df[0:3]"
      ],
      "execution_count": 23,
      "outputs": [
        {
          "output_type": "execute_result",
          "data": {
            "text/html": [
              "<div>\n",
              "<style scoped>\n",
              "    .dataframe tbody tr th:only-of-type {\n",
              "        vertical-align: middle;\n",
              "    }\n",
              "\n",
              "    .dataframe tbody tr th {\n",
              "        vertical-align: top;\n",
              "    }\n",
              "\n",
              "    .dataframe thead th {\n",
              "        text-align: right;\n",
              "    }\n",
              "</style>\n",
              "<table border=\"1\" class=\"dataframe\">\n",
              "  <thead>\n",
              "    <tr style=\"text-align: right;\">\n",
              "      <th></th>\n",
              "      <th>A</th>\n",
              "      <th>B</th>\n",
              "      <th>C</th>\n",
              "      <th>D</th>\n",
              "    </tr>\n",
              "  </thead>\n",
              "  <tbody>\n",
              "    <tr>\n",
              "      <th>2021-09-27</th>\n",
              "      <td>-2.109398</td>\n",
              "      <td>1.148560</td>\n",
              "      <td>-0.433787</td>\n",
              "      <td>-1.061523</td>\n",
              "    </tr>\n",
              "    <tr>\n",
              "      <th>2021-09-28</th>\n",
              "      <td>-1.151504</td>\n",
              "      <td>-0.309128</td>\n",
              "      <td>-0.320549</td>\n",
              "      <td>-1.260499</td>\n",
              "    </tr>\n",
              "    <tr>\n",
              "      <th>2021-09-29</th>\n",
              "      <td>-1.316030</td>\n",
              "      <td>0.326640</td>\n",
              "      <td>0.560517</td>\n",
              "      <td>1.915551</td>\n",
              "    </tr>\n",
              "  </tbody>\n",
              "</table>\n",
              "</div>"
            ],
            "text/plain": [
              "                   A         B         C         D\n",
              "2021-09-27 -2.109398  1.148560 -0.433787 -1.061523\n",
              "2021-09-28 -1.151504 -0.309128 -0.320549 -1.260499\n",
              "2021-09-29 -1.316030  0.326640  0.560517  1.915551"
            ]
          },
          "metadata": {},
          "execution_count": 23
        }
      ]
    },
    {
      "cell_type": "code",
      "metadata": {
        "id": "T8XP7m9nx5r9",
        "colab": {
          "base_uri": "https://localhost:8080/",
          "height": 204
        },
        "outputId": "e9dc4158-c22d-4e7a-d9ff-fea2d0b204ed"
      },
      "source": [
        "df['20210927':'20211001'] # 인덱스가 아닌 값인 경우는 지정된 범위가 다 선택된다."
      ],
      "execution_count": 25,
      "outputs": [
        {
          "output_type": "execute_result",
          "data": {
            "text/html": [
              "<div>\n",
              "<style scoped>\n",
              "    .dataframe tbody tr th:only-of-type {\n",
              "        vertical-align: middle;\n",
              "    }\n",
              "\n",
              "    .dataframe tbody tr th {\n",
              "        vertical-align: top;\n",
              "    }\n",
              "\n",
              "    .dataframe thead th {\n",
              "        text-align: right;\n",
              "    }\n",
              "</style>\n",
              "<table border=\"1\" class=\"dataframe\">\n",
              "  <thead>\n",
              "    <tr style=\"text-align: right;\">\n",
              "      <th></th>\n",
              "      <th>A</th>\n",
              "      <th>B</th>\n",
              "      <th>C</th>\n",
              "      <th>D</th>\n",
              "    </tr>\n",
              "  </thead>\n",
              "  <tbody>\n",
              "    <tr>\n",
              "      <th>2021-09-27</th>\n",
              "      <td>-2.109398</td>\n",
              "      <td>1.148560</td>\n",
              "      <td>-0.433787</td>\n",
              "      <td>-1.061523</td>\n",
              "    </tr>\n",
              "    <tr>\n",
              "      <th>2021-09-28</th>\n",
              "      <td>-1.151504</td>\n",
              "      <td>-0.309128</td>\n",
              "      <td>-0.320549</td>\n",
              "      <td>-1.260499</td>\n",
              "    </tr>\n",
              "    <tr>\n",
              "      <th>2021-09-29</th>\n",
              "      <td>-1.316030</td>\n",
              "      <td>0.326640</td>\n",
              "      <td>0.560517</td>\n",
              "      <td>1.915551</td>\n",
              "    </tr>\n",
              "    <tr>\n",
              "      <th>2021-09-30</th>\n",
              "      <td>-0.658513</td>\n",
              "      <td>-1.470793</td>\n",
              "      <td>-0.735181</td>\n",
              "      <td>1.267662</td>\n",
              "    </tr>\n",
              "    <tr>\n",
              "      <th>2021-10-01</th>\n",
              "      <td>-0.227859</td>\n",
              "      <td>0.464109</td>\n",
              "      <td>0.868542</td>\n",
              "      <td>0.091949</td>\n",
              "    </tr>\n",
              "  </tbody>\n",
              "</table>\n",
              "</div>"
            ],
            "text/plain": [
              "                   A         B         C         D\n",
              "2021-09-27 -2.109398  1.148560 -0.433787 -1.061523\n",
              "2021-09-28 -1.151504 -0.309128 -0.320549 -1.260499\n",
              "2021-09-29 -1.316030  0.326640  0.560517  1.915551\n",
              "2021-09-30 -0.658513 -1.470793 -0.735181  1.267662\n",
              "2021-10-01 -0.227859  0.464109  0.868542  0.091949"
            ]
          },
          "metadata": {},
          "execution_count": 25
        }
      ]
    },
    {
      "cell_type": "markdown",
      "metadata": {
        "id": "E7-V96t9x5sB"
      },
      "source": [
        "#### Selecting data by label [중요!!]\n",
        "\n",
        "> **loc, iloc**\n"
      ]
    },
    {
      "cell_type": "code",
      "metadata": {
        "id": "TV4dnwU-x5sC",
        "colab": {
          "base_uri": "https://localhost:8080/",
          "height": 235
        },
        "outputId": "87f73941-d635-486a-f5e6-502b9e2f8ad0"
      },
      "source": [
        "df"
      ],
      "execution_count": 26,
      "outputs": [
        {
          "output_type": "execute_result",
          "data": {
            "text/html": [
              "<div>\n",
              "<style scoped>\n",
              "    .dataframe tbody tr th:only-of-type {\n",
              "        vertical-align: middle;\n",
              "    }\n",
              "\n",
              "    .dataframe tbody tr th {\n",
              "        vertical-align: top;\n",
              "    }\n",
              "\n",
              "    .dataframe thead th {\n",
              "        text-align: right;\n",
              "    }\n",
              "</style>\n",
              "<table border=\"1\" class=\"dataframe\">\n",
              "  <thead>\n",
              "    <tr style=\"text-align: right;\">\n",
              "      <th></th>\n",
              "      <th>A</th>\n",
              "      <th>B</th>\n",
              "      <th>C</th>\n",
              "      <th>D</th>\n",
              "    </tr>\n",
              "  </thead>\n",
              "  <tbody>\n",
              "    <tr>\n",
              "      <th>2021-09-27</th>\n",
              "      <td>-2.109398</td>\n",
              "      <td>1.148560</td>\n",
              "      <td>-0.433787</td>\n",
              "      <td>-1.061523</td>\n",
              "    </tr>\n",
              "    <tr>\n",
              "      <th>2021-09-28</th>\n",
              "      <td>-1.151504</td>\n",
              "      <td>-0.309128</td>\n",
              "      <td>-0.320549</td>\n",
              "      <td>-1.260499</td>\n",
              "    </tr>\n",
              "    <tr>\n",
              "      <th>2021-09-29</th>\n",
              "      <td>-1.316030</td>\n",
              "      <td>0.326640</td>\n",
              "      <td>0.560517</td>\n",
              "      <td>1.915551</td>\n",
              "    </tr>\n",
              "    <tr>\n",
              "      <th>2021-09-30</th>\n",
              "      <td>-0.658513</td>\n",
              "      <td>-1.470793</td>\n",
              "      <td>-0.735181</td>\n",
              "      <td>1.267662</td>\n",
              "    </tr>\n",
              "    <tr>\n",
              "      <th>2021-10-01</th>\n",
              "      <td>-0.227859</td>\n",
              "      <td>0.464109</td>\n",
              "      <td>0.868542</td>\n",
              "      <td>0.091949</td>\n",
              "    </tr>\n",
              "    <tr>\n",
              "      <th>2021-10-02</th>\n",
              "      <td>-0.086846</td>\n",
              "      <td>-0.662293</td>\n",
              "      <td>-0.671160</td>\n",
              "      <td>0.986184</td>\n",
              "    </tr>\n",
              "  </tbody>\n",
              "</table>\n",
              "</div>"
            ],
            "text/plain": [
              "                   A         B         C         D\n",
              "2021-09-27 -2.109398  1.148560 -0.433787 -1.061523\n",
              "2021-09-28 -1.151504 -0.309128 -0.320549 -1.260499\n",
              "2021-09-29 -1.316030  0.326640  0.560517  1.915551\n",
              "2021-09-30 -0.658513 -1.470793 -0.735181  1.267662\n",
              "2021-10-01 -0.227859  0.464109  0.868542  0.091949\n",
              "2021-10-02 -0.086846 -0.662293 -0.671160  0.986184"
            ]
          },
          "metadata": {},
          "execution_count": 26
        }
      ]
    },
    {
      "cell_type": "code",
      "metadata": {
        "colab": {
          "base_uri": "https://localhost:8080/"
        },
        "id": "rzQYqTlJ4AT3",
        "outputId": "01d70f74-f859-4f0d-a97d-bcb5ab1669f0"
      },
      "source": [
        "dates[0]"
      ],
      "execution_count": 27,
      "outputs": [
        {
          "output_type": "execute_result",
          "data": {
            "text/plain": [
              "Timestamp('2021-09-27 00:00:00', freq='D')"
            ]
          },
          "metadata": {},
          "execution_count": 27
        }
      ]
    },
    {
      "cell_type": "code",
      "metadata": {
        "id": "iPZE3U5cx5sG",
        "colab": {
          "base_uri": "https://localhost:8080/"
        },
        "outputId": "d41081bd-d18e-40d6-8da8-f034ebdd2c6e"
      },
      "source": [
        "df.loc[dates[0]]   # loc()"
      ],
      "execution_count": 28,
      "outputs": [
        {
          "output_type": "execute_result",
          "data": {
            "text/plain": [
              "A   -2.109398\n",
              "B    1.148560\n",
              "C   -0.433787\n",
              "D   -1.061523\n",
              "Name: 2021-09-27 00:00:00, dtype: float64"
            ]
          },
          "metadata": {},
          "execution_count": 28
        }
      ]
    },
    {
      "cell_type": "code",
      "metadata": {
        "id": "jteYZDQnx5sL",
        "colab": {
          "base_uri": "https://localhost:8080/",
          "height": 235
        },
        "outputId": "8863fe9f-4009-428f-8acd-30a57c709b04"
      },
      "source": [
        "# Selecting on a multi-axis by label:\n",
        "df.loc[:,['A','B']]"
      ],
      "execution_count": 29,
      "outputs": [
        {
          "output_type": "execute_result",
          "data": {
            "text/html": [
              "<div>\n",
              "<style scoped>\n",
              "    .dataframe tbody tr th:only-of-type {\n",
              "        vertical-align: middle;\n",
              "    }\n",
              "\n",
              "    .dataframe tbody tr th {\n",
              "        vertical-align: top;\n",
              "    }\n",
              "\n",
              "    .dataframe thead th {\n",
              "        text-align: right;\n",
              "    }\n",
              "</style>\n",
              "<table border=\"1\" class=\"dataframe\">\n",
              "  <thead>\n",
              "    <tr style=\"text-align: right;\">\n",
              "      <th></th>\n",
              "      <th>A</th>\n",
              "      <th>B</th>\n",
              "    </tr>\n",
              "  </thead>\n",
              "  <tbody>\n",
              "    <tr>\n",
              "      <th>2021-09-27</th>\n",
              "      <td>-2.109398</td>\n",
              "      <td>1.148560</td>\n",
              "    </tr>\n",
              "    <tr>\n",
              "      <th>2021-09-28</th>\n",
              "      <td>-1.151504</td>\n",
              "      <td>-0.309128</td>\n",
              "    </tr>\n",
              "    <tr>\n",
              "      <th>2021-09-29</th>\n",
              "      <td>-1.316030</td>\n",
              "      <td>0.326640</td>\n",
              "    </tr>\n",
              "    <tr>\n",
              "      <th>2021-09-30</th>\n",
              "      <td>-0.658513</td>\n",
              "      <td>-1.470793</td>\n",
              "    </tr>\n",
              "    <tr>\n",
              "      <th>2021-10-01</th>\n",
              "      <td>-0.227859</td>\n",
              "      <td>0.464109</td>\n",
              "    </tr>\n",
              "    <tr>\n",
              "      <th>2021-10-02</th>\n",
              "      <td>-0.086846</td>\n",
              "      <td>-0.662293</td>\n",
              "    </tr>\n",
              "  </tbody>\n",
              "</table>\n",
              "</div>"
            ],
            "text/plain": [
              "                   A         B\n",
              "2021-09-27 -2.109398  1.148560\n",
              "2021-09-28 -1.151504 -0.309128\n",
              "2021-09-29 -1.316030  0.326640\n",
              "2021-09-30 -0.658513 -1.470793\n",
              "2021-10-01 -0.227859  0.464109\n",
              "2021-10-02 -0.086846 -0.662293"
            ]
          },
          "metadata": {},
          "execution_count": 29
        }
      ]
    },
    {
      "cell_type": "markdown",
      "metadata": {
        "id": "QqYJvRLnx5sP"
      },
      "source": [
        "#### [DIY: 도전코딩]\n",
        "\n",
        "> Select data for first two days AND column 3,4 from df using loc[]."
      ]
    },
    {
      "cell_type": "code",
      "metadata": {
        "id": "jSUlF4icx5sQ",
        "colab": {
          "base_uri": "https://localhost:8080/",
          "height": 111
        },
        "outputId": "fa1e6af2-0889-41f0-9075-398dbe5d8c91"
      },
      "source": [
        "# df.loc[0:2,['C','D']] #loc 함수에서는 정수 지정 불가 -> 그러므로 에러 발생\n",
        "# df.loc['20210927':'20210928',['C','D']]\n",
        "df.loc[dates[:2],['C','D']]"
      ],
      "execution_count": 31,
      "outputs": [
        {
          "output_type": "execute_result",
          "data": {
            "text/html": [
              "<div>\n",
              "<style scoped>\n",
              "    .dataframe tbody tr th:only-of-type {\n",
              "        vertical-align: middle;\n",
              "    }\n",
              "\n",
              "    .dataframe tbody tr th {\n",
              "        vertical-align: top;\n",
              "    }\n",
              "\n",
              "    .dataframe thead th {\n",
              "        text-align: right;\n",
              "    }\n",
              "</style>\n",
              "<table border=\"1\" class=\"dataframe\">\n",
              "  <thead>\n",
              "    <tr style=\"text-align: right;\">\n",
              "      <th></th>\n",
              "      <th>C</th>\n",
              "      <th>D</th>\n",
              "    </tr>\n",
              "  </thead>\n",
              "  <tbody>\n",
              "    <tr>\n",
              "      <th>2021-09-27</th>\n",
              "      <td>-0.433787</td>\n",
              "      <td>-1.061523</td>\n",
              "    </tr>\n",
              "    <tr>\n",
              "      <th>2021-09-28</th>\n",
              "      <td>-0.320549</td>\n",
              "      <td>-1.260499</td>\n",
              "    </tr>\n",
              "  </tbody>\n",
              "</table>\n",
              "</div>"
            ],
            "text/plain": [
              "                   C         D\n",
              "2021-09-27 -0.433787 -1.061523\n",
              "2021-09-28 -0.320549 -1.260499"
            ]
          },
          "metadata": {},
          "execution_count": 31
        }
      ]
    },
    {
      "cell_type": "markdown",
      "metadata": {
        "id": "-BGWuIwpx5sV"
      },
      "source": [
        "#### Selecting data by position (iloc())\n",
        "- index 사용"
      ]
    },
    {
      "cell_type": "code",
      "metadata": {
        "id": "gYtgID9rx5sW",
        "colab": {
          "base_uri": "https://localhost:8080/",
          "height": 235
        },
        "outputId": "60a467ea-6769-49e9-bcb7-c2731b377cf8"
      },
      "source": [
        "df"
      ],
      "execution_count": 32,
      "outputs": [
        {
          "output_type": "execute_result",
          "data": {
            "text/html": [
              "<div>\n",
              "<style scoped>\n",
              "    .dataframe tbody tr th:only-of-type {\n",
              "        vertical-align: middle;\n",
              "    }\n",
              "\n",
              "    .dataframe tbody tr th {\n",
              "        vertical-align: top;\n",
              "    }\n",
              "\n",
              "    .dataframe thead th {\n",
              "        text-align: right;\n",
              "    }\n",
              "</style>\n",
              "<table border=\"1\" class=\"dataframe\">\n",
              "  <thead>\n",
              "    <tr style=\"text-align: right;\">\n",
              "      <th></th>\n",
              "      <th>A</th>\n",
              "      <th>B</th>\n",
              "      <th>C</th>\n",
              "      <th>D</th>\n",
              "    </tr>\n",
              "  </thead>\n",
              "  <tbody>\n",
              "    <tr>\n",
              "      <th>2021-09-27</th>\n",
              "      <td>-2.109398</td>\n",
              "      <td>1.148560</td>\n",
              "      <td>-0.433787</td>\n",
              "      <td>-1.061523</td>\n",
              "    </tr>\n",
              "    <tr>\n",
              "      <th>2021-09-28</th>\n",
              "      <td>-1.151504</td>\n",
              "      <td>-0.309128</td>\n",
              "      <td>-0.320549</td>\n",
              "      <td>-1.260499</td>\n",
              "    </tr>\n",
              "    <tr>\n",
              "      <th>2021-09-29</th>\n",
              "      <td>-1.316030</td>\n",
              "      <td>0.326640</td>\n",
              "      <td>0.560517</td>\n",
              "      <td>1.915551</td>\n",
              "    </tr>\n",
              "    <tr>\n",
              "      <th>2021-09-30</th>\n",
              "      <td>-0.658513</td>\n",
              "      <td>-1.470793</td>\n",
              "      <td>-0.735181</td>\n",
              "      <td>1.267662</td>\n",
              "    </tr>\n",
              "    <tr>\n",
              "      <th>2021-10-01</th>\n",
              "      <td>-0.227859</td>\n",
              "      <td>0.464109</td>\n",
              "      <td>0.868542</td>\n",
              "      <td>0.091949</td>\n",
              "    </tr>\n",
              "    <tr>\n",
              "      <th>2021-10-02</th>\n",
              "      <td>-0.086846</td>\n",
              "      <td>-0.662293</td>\n",
              "      <td>-0.671160</td>\n",
              "      <td>0.986184</td>\n",
              "    </tr>\n",
              "  </tbody>\n",
              "</table>\n",
              "</div>"
            ],
            "text/plain": [
              "                   A         B         C         D\n",
              "2021-09-27 -2.109398  1.148560 -0.433787 -1.061523\n",
              "2021-09-28 -1.151504 -0.309128 -0.320549 -1.260499\n",
              "2021-09-29 -1.316030  0.326640  0.560517  1.915551\n",
              "2021-09-30 -0.658513 -1.470793 -0.735181  1.267662\n",
              "2021-10-01 -0.227859  0.464109  0.868542  0.091949\n",
              "2021-10-02 -0.086846 -0.662293 -0.671160  0.986184"
            ]
          },
          "metadata": {},
          "execution_count": 32
        }
      ]
    },
    {
      "cell_type": "code",
      "metadata": {
        "id": "PNgZ3u8-x5sa",
        "colab": {
          "base_uri": "https://localhost:8080/"
        },
        "outputId": "0e4525fd-0096-4cbb-982b-3fc18a58d26b"
      },
      "source": [
        "df.iloc[3]  # 결과는 차원축소형으로 표현됨."
      ],
      "execution_count": 33,
      "outputs": [
        {
          "output_type": "execute_result",
          "data": {
            "text/plain": [
              "A   -0.658513\n",
              "B   -1.470793\n",
              "C   -0.735181\n",
              "D    1.267662\n",
              "Name: 2021-09-30 00:00:00, dtype: float64"
            ]
          },
          "metadata": {},
          "execution_count": 33
        }
      ]
    },
    {
      "cell_type": "code",
      "metadata": {
        "id": "12eWuxQ_x5sh",
        "colab": {
          "base_uri": "https://localhost:8080/",
          "height": 111
        },
        "outputId": "e1a00489-4a2c-4aa6-fe7d-dd3f50504e12"
      },
      "source": [
        "# [다시 도전]\n",
        "# Select data for first two days AND comumn 3,4 from df.\n",
        "# Use iloc\n",
        "df.iloc[:2,2:4] # 2행 2열이라는 의미"
      ],
      "execution_count": 34,
      "outputs": [
        {
          "output_type": "execute_result",
          "data": {
            "text/html": [
              "<div>\n",
              "<style scoped>\n",
              "    .dataframe tbody tr th:only-of-type {\n",
              "        vertical-align: middle;\n",
              "    }\n",
              "\n",
              "    .dataframe tbody tr th {\n",
              "        vertical-align: top;\n",
              "    }\n",
              "\n",
              "    .dataframe thead th {\n",
              "        text-align: right;\n",
              "    }\n",
              "</style>\n",
              "<table border=\"1\" class=\"dataframe\">\n",
              "  <thead>\n",
              "    <tr style=\"text-align: right;\">\n",
              "      <th></th>\n",
              "      <th>C</th>\n",
              "      <th>D</th>\n",
              "    </tr>\n",
              "  </thead>\n",
              "  <tbody>\n",
              "    <tr>\n",
              "      <th>2021-09-27</th>\n",
              "      <td>-0.433787</td>\n",
              "      <td>-1.061523</td>\n",
              "    </tr>\n",
              "    <tr>\n",
              "      <th>2021-09-28</th>\n",
              "      <td>-0.320549</td>\n",
              "      <td>-1.260499</td>\n",
              "    </tr>\n",
              "  </tbody>\n",
              "</table>\n",
              "</div>"
            ],
            "text/plain": [
              "                   C         D\n",
              "2021-09-27 -0.433787 -1.061523\n",
              "2021-09-28 -0.320549 -1.260499"
            ]
          },
          "metadata": {},
          "execution_count": 34
        }
      ]
    },
    {
      "cell_type": "code",
      "metadata": {
        "id": "_S-omW3hx5sn",
        "colab": {
          "base_uri": "https://localhost:8080/"
        },
        "outputId": "55e04264-0c17-4dc9-ede3-ecbf4fdbfd6c"
      },
      "source": [
        "# Select one item\n",
        "df.iloc[1,1] # 인덱스는 0부터 시작이기에 1,1은 각각 두번째 행과 열의 값이 출력된다."
      ],
      "execution_count": 35,
      "outputs": [
        {
          "output_type": "execute_result",
          "data": {
            "text/plain": [
              "-0.3091279501216981"
            ]
          },
          "metadata": {},
          "execution_count": 35
        }
      ]
    },
    {
      "cell_type": "code",
      "metadata": {
        "id": "fjAsIAidfVUQ",
        "colab": {
          "base_uri": "https://localhost:8080/",
          "height": 142
        },
        "outputId": "1797f06d-d293-469c-b191-b8da259e34f2"
      },
      "source": [
        "# [DIY: 다시 도전]\n",
        "# Select data for first three days from df\n",
        "# Your code\n",
        "df.iloc[:3,:] # 레인지 인덱스로 되어있기 때문에 iloc 함수를 사용한다."
      ],
      "execution_count": 38,
      "outputs": [
        {
          "output_type": "execute_result",
          "data": {
            "text/html": [
              "<div>\n",
              "<style scoped>\n",
              "    .dataframe tbody tr th:only-of-type {\n",
              "        vertical-align: middle;\n",
              "    }\n",
              "\n",
              "    .dataframe tbody tr th {\n",
              "        vertical-align: top;\n",
              "    }\n",
              "\n",
              "    .dataframe thead th {\n",
              "        text-align: right;\n",
              "    }\n",
              "</style>\n",
              "<table border=\"1\" class=\"dataframe\">\n",
              "  <thead>\n",
              "    <tr style=\"text-align: right;\">\n",
              "      <th></th>\n",
              "      <th>A</th>\n",
              "      <th>B</th>\n",
              "      <th>C</th>\n",
              "      <th>D</th>\n",
              "    </tr>\n",
              "  </thead>\n",
              "  <tbody>\n",
              "    <tr>\n",
              "      <th>2021-09-27</th>\n",
              "      <td>-2.109398</td>\n",
              "      <td>1.148560</td>\n",
              "      <td>-0.433787</td>\n",
              "      <td>-1.061523</td>\n",
              "    </tr>\n",
              "    <tr>\n",
              "      <th>2021-09-28</th>\n",
              "      <td>-1.151504</td>\n",
              "      <td>-0.309128</td>\n",
              "      <td>-0.320549</td>\n",
              "      <td>-1.260499</td>\n",
              "    </tr>\n",
              "    <tr>\n",
              "      <th>2021-09-29</th>\n",
              "      <td>-1.316030</td>\n",
              "      <td>0.326640</td>\n",
              "      <td>0.560517</td>\n",
              "      <td>1.915551</td>\n",
              "    </tr>\n",
              "  </tbody>\n",
              "</table>\n",
              "</div>"
            ],
            "text/plain": [
              "                   A         B         C         D\n",
              "2021-09-27 -2.109398  1.148560 -0.433787 -1.061523\n",
              "2021-09-28 -1.151504 -0.309128 -0.320549 -1.260499\n",
              "2021-09-29 -1.316030  0.326640  0.560517  1.915551"
            ]
          },
          "metadata": {},
          "execution_count": 38
        }
      ]
    },
    {
      "cell_type": "markdown",
      "metadata": {
        "id": "fDoWVVGHx5su"
      },
      "source": [
        "#### Selecting data by Boolean indexing"
      ]
    },
    {
      "cell_type": "code",
      "metadata": {
        "id": "CG7LipUrx5sv",
        "colab": {
          "base_uri": "https://localhost:8080/",
          "height": 235
        },
        "outputId": "c1de69cf-5f2a-4fa1-a08b-e8d06135e454"
      },
      "source": [
        "df"
      ],
      "execution_count": 45,
      "outputs": [
        {
          "output_type": "execute_result",
          "data": {
            "text/html": [
              "<div>\n",
              "<style scoped>\n",
              "    .dataframe tbody tr th:only-of-type {\n",
              "        vertical-align: middle;\n",
              "    }\n",
              "\n",
              "    .dataframe tbody tr th {\n",
              "        vertical-align: top;\n",
              "    }\n",
              "\n",
              "    .dataframe thead th {\n",
              "        text-align: right;\n",
              "    }\n",
              "</style>\n",
              "<table border=\"1\" class=\"dataframe\">\n",
              "  <thead>\n",
              "    <tr style=\"text-align: right;\">\n",
              "      <th></th>\n",
              "      <th>A</th>\n",
              "      <th>B</th>\n",
              "      <th>C</th>\n",
              "      <th>D</th>\n",
              "    </tr>\n",
              "  </thead>\n",
              "  <tbody>\n",
              "    <tr>\n",
              "      <th>2021-09-27</th>\n",
              "      <td>-2.109398</td>\n",
              "      <td>1.148560</td>\n",
              "      <td>-0.433787</td>\n",
              "      <td>-1.061523</td>\n",
              "    </tr>\n",
              "    <tr>\n",
              "      <th>2021-09-28</th>\n",
              "      <td>-1.151504</td>\n",
              "      <td>-0.309128</td>\n",
              "      <td>-0.320549</td>\n",
              "      <td>-1.260499</td>\n",
              "    </tr>\n",
              "    <tr>\n",
              "      <th>2021-09-29</th>\n",
              "      <td>-1.316030</td>\n",
              "      <td>0.326640</td>\n",
              "      <td>0.560517</td>\n",
              "      <td>1.915551</td>\n",
              "    </tr>\n",
              "    <tr>\n",
              "      <th>2021-09-30</th>\n",
              "      <td>-0.658513</td>\n",
              "      <td>-1.470793</td>\n",
              "      <td>-0.735181</td>\n",
              "      <td>1.267662</td>\n",
              "    </tr>\n",
              "    <tr>\n",
              "      <th>2021-10-01</th>\n",
              "      <td>-0.227859</td>\n",
              "      <td>0.464109</td>\n",
              "      <td>0.868542</td>\n",
              "      <td>0.091949</td>\n",
              "    </tr>\n",
              "    <tr>\n",
              "      <th>2021-10-02</th>\n",
              "      <td>-0.086846</td>\n",
              "      <td>-0.662293</td>\n",
              "      <td>-0.671160</td>\n",
              "      <td>0.986184</td>\n",
              "    </tr>\n",
              "  </tbody>\n",
              "</table>\n",
              "</div>"
            ],
            "text/plain": [
              "                   A         B         C         D\n",
              "2021-09-27 -2.109398  1.148560 -0.433787 -1.061523\n",
              "2021-09-28 -1.151504 -0.309128 -0.320549 -1.260499\n",
              "2021-09-29 -1.316030  0.326640  0.560517  1.915551\n",
              "2021-09-30 -0.658513 -1.470793 -0.735181  1.267662\n",
              "2021-10-01 -0.227859  0.464109  0.868542  0.091949\n",
              "2021-10-02 -0.086846 -0.662293 -0.671160  0.986184"
            ]
          },
          "metadata": {},
          "execution_count": 45
        }
      ]
    },
    {
      "cell_type": "code",
      "metadata": {
        "colab": {
          "base_uri": "https://localhost:8080/",
          "height": 235
        },
        "id": "3dhjAhqO7U1B",
        "outputId": "37e09995-920b-48f2-b474-bce6b3f36b50"
      },
      "source": [
        "df > 0 # df.A > 0"
      ],
      "execution_count": 46,
      "outputs": [
        {
          "output_type": "execute_result",
          "data": {
            "text/html": [
              "<div>\n",
              "<style scoped>\n",
              "    .dataframe tbody tr th:only-of-type {\n",
              "        vertical-align: middle;\n",
              "    }\n",
              "\n",
              "    .dataframe tbody tr th {\n",
              "        vertical-align: top;\n",
              "    }\n",
              "\n",
              "    .dataframe thead th {\n",
              "        text-align: right;\n",
              "    }\n",
              "</style>\n",
              "<table border=\"1\" class=\"dataframe\">\n",
              "  <thead>\n",
              "    <tr style=\"text-align: right;\">\n",
              "      <th></th>\n",
              "      <th>A</th>\n",
              "      <th>B</th>\n",
              "      <th>C</th>\n",
              "      <th>D</th>\n",
              "    </tr>\n",
              "  </thead>\n",
              "  <tbody>\n",
              "    <tr>\n",
              "      <th>2021-09-27</th>\n",
              "      <td>False</td>\n",
              "      <td>True</td>\n",
              "      <td>False</td>\n",
              "      <td>False</td>\n",
              "    </tr>\n",
              "    <tr>\n",
              "      <th>2021-09-28</th>\n",
              "      <td>False</td>\n",
              "      <td>False</td>\n",
              "      <td>False</td>\n",
              "      <td>False</td>\n",
              "    </tr>\n",
              "    <tr>\n",
              "      <th>2021-09-29</th>\n",
              "      <td>False</td>\n",
              "      <td>True</td>\n",
              "      <td>True</td>\n",
              "      <td>True</td>\n",
              "    </tr>\n",
              "    <tr>\n",
              "      <th>2021-09-30</th>\n",
              "      <td>False</td>\n",
              "      <td>False</td>\n",
              "      <td>False</td>\n",
              "      <td>True</td>\n",
              "    </tr>\n",
              "    <tr>\n",
              "      <th>2021-10-01</th>\n",
              "      <td>False</td>\n",
              "      <td>True</td>\n",
              "      <td>True</td>\n",
              "      <td>True</td>\n",
              "    </tr>\n",
              "    <tr>\n",
              "      <th>2021-10-02</th>\n",
              "      <td>False</td>\n",
              "      <td>False</td>\n",
              "      <td>False</td>\n",
              "      <td>True</td>\n",
              "    </tr>\n",
              "  </tbody>\n",
              "</table>\n",
              "</div>"
            ],
            "text/plain": [
              "                A      B      C      D\n",
              "2021-09-27  False   True  False  False\n",
              "2021-09-28  False  False  False  False\n",
              "2021-09-29  False   True   True   True\n",
              "2021-09-30  False  False  False   True\n",
              "2021-10-01  False   True   True   True\n",
              "2021-10-02  False  False  False   True"
            ]
          },
          "metadata": {},
          "execution_count": 46
        }
      ]
    },
    {
      "cell_type": "code",
      "metadata": {
        "id": "U5If1VEYx5sy",
        "colab": {
          "base_uri": "https://localhost:8080/",
          "height": 49
        },
        "outputId": "bbfe078c-165d-44f3-853d-a0ee25a2e464"
      },
      "source": [
        "df[df.A > 0]"
      ],
      "execution_count": 49,
      "outputs": [
        {
          "output_type": "execute_result",
          "data": {
            "text/html": [
              "<div>\n",
              "<style scoped>\n",
              "    .dataframe tbody tr th:only-of-type {\n",
              "        vertical-align: middle;\n",
              "    }\n",
              "\n",
              "    .dataframe tbody tr th {\n",
              "        vertical-align: top;\n",
              "    }\n",
              "\n",
              "    .dataframe thead th {\n",
              "        text-align: right;\n",
              "    }\n",
              "</style>\n",
              "<table border=\"1\" class=\"dataframe\">\n",
              "  <thead>\n",
              "    <tr style=\"text-align: right;\">\n",
              "      <th></th>\n",
              "      <th>A</th>\n",
              "      <th>B</th>\n",
              "      <th>C</th>\n",
              "      <th>D</th>\n",
              "    </tr>\n",
              "  </thead>\n",
              "  <tbody>\n",
              "  </tbody>\n",
              "</table>\n",
              "</div>"
            ],
            "text/plain": [
              "Empty DataFrame\n",
              "Columns: [A, B, C, D]\n",
              "Index: []"
            ]
          },
          "metadata": {},
          "execution_count": 49
        }
      ]
    },
    {
      "cell_type": "code",
      "metadata": {
        "id": "8WkB7Q5rx5s1",
        "colab": {
          "base_uri": "https://localhost:8080/",
          "height": 235
        },
        "outputId": "ec6056ba-e474-4b92-98fe-e03767c627d6"
      },
      "source": [
        "df[df > 0]"
      ],
      "execution_count": 48,
      "outputs": [
        {
          "output_type": "execute_result",
          "data": {
            "text/html": [
              "<div>\n",
              "<style scoped>\n",
              "    .dataframe tbody tr th:only-of-type {\n",
              "        vertical-align: middle;\n",
              "    }\n",
              "\n",
              "    .dataframe tbody tr th {\n",
              "        vertical-align: top;\n",
              "    }\n",
              "\n",
              "    .dataframe thead th {\n",
              "        text-align: right;\n",
              "    }\n",
              "</style>\n",
              "<table border=\"1\" class=\"dataframe\">\n",
              "  <thead>\n",
              "    <tr style=\"text-align: right;\">\n",
              "      <th></th>\n",
              "      <th>A</th>\n",
              "      <th>B</th>\n",
              "      <th>C</th>\n",
              "      <th>D</th>\n",
              "    </tr>\n",
              "  </thead>\n",
              "  <tbody>\n",
              "    <tr>\n",
              "      <th>2021-09-27</th>\n",
              "      <td>NaN</td>\n",
              "      <td>1.148560</td>\n",
              "      <td>NaN</td>\n",
              "      <td>NaN</td>\n",
              "    </tr>\n",
              "    <tr>\n",
              "      <th>2021-09-28</th>\n",
              "      <td>NaN</td>\n",
              "      <td>NaN</td>\n",
              "      <td>NaN</td>\n",
              "      <td>NaN</td>\n",
              "    </tr>\n",
              "    <tr>\n",
              "      <th>2021-09-29</th>\n",
              "      <td>NaN</td>\n",
              "      <td>0.326640</td>\n",
              "      <td>0.560517</td>\n",
              "      <td>1.915551</td>\n",
              "    </tr>\n",
              "    <tr>\n",
              "      <th>2021-09-30</th>\n",
              "      <td>NaN</td>\n",
              "      <td>NaN</td>\n",
              "      <td>NaN</td>\n",
              "      <td>1.267662</td>\n",
              "    </tr>\n",
              "    <tr>\n",
              "      <th>2021-10-01</th>\n",
              "      <td>NaN</td>\n",
              "      <td>0.464109</td>\n",
              "      <td>0.868542</td>\n",
              "      <td>0.091949</td>\n",
              "    </tr>\n",
              "    <tr>\n",
              "      <th>2021-10-02</th>\n",
              "      <td>NaN</td>\n",
              "      <td>NaN</td>\n",
              "      <td>NaN</td>\n",
              "      <td>0.986184</td>\n",
              "    </tr>\n",
              "  </tbody>\n",
              "</table>\n",
              "</div>"
            ],
            "text/plain": [
              "             A         B         C         D\n",
              "2021-09-27 NaN  1.148560       NaN       NaN\n",
              "2021-09-28 NaN       NaN       NaN       NaN\n",
              "2021-09-29 NaN  0.326640  0.560517  1.915551\n",
              "2021-09-30 NaN       NaN       NaN  1.267662\n",
              "2021-10-01 NaN  0.464109  0.868542  0.091949\n",
              "2021-10-02 NaN       NaN       NaN  0.986184"
            ]
          },
          "metadata": {},
          "execution_count": 48
        }
      ]
    }
  ]
}