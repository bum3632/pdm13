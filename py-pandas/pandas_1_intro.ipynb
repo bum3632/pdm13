{
  "nbformat": 4,
  "nbformat_minor": 0,
  "metadata": {
    "kernelspec": {
      "name": "python3",
      "display_name": "Python 3"
    },
    "language_info": {
      "codemirror_mode": {
        "name": "ipython",
        "version": 3
      },
      "file_extension": ".py",
      "mimetype": "text/x-python",
      "name": "python",
      "nbconvert_exporter": "python",
      "pygments_lexer": "ipython3",
      "version": "3.6.6"
    },
    "colab": {
      "name": "pandas_1_intro.ipynb",
      "provenance": [],
      "collapsed_sections": [],
      "include_colab_link": true
    }
  },
  "cells": [
    {
      "cell_type": "markdown",
      "metadata": {
        "id": "view-in-github",
        "colab_type": "text"
      },
      "source": [
        "<a href=\"https://colab.research.google.com/github/bum3632/pdm13/blob/main/py-pandas/pandas_1_intro.ipynb\" target=\"_parent\"><img src=\"https://colab.research.google.com/assets/colab-badge.svg\" alt=\"Open In Colab\"/></a>"
      ]
    },
    {
      "cell_type": "markdown",
      "metadata": {
        "id": "-a_Ksvwdx5pf"
      },
      "source": [
        "### Python module 3. **pandas**"
      ]
    },
    {
      "cell_type": "markdown",
      "metadata": {
        "id": "P_F0RSPKx5pl"
      },
      "source": [
        "# Using pandas"
      ]
    },
    {
      "cell_type": "markdown",
      "metadata": {
        "id": "FfxMgWUFx5pm"
      },
      "source": [
        "* [10 Minutes to pandas](https://pandas.pydata.org/pandas-docs/stable/10min.html)\n",
        "* [Pandas tutorial with interactive exercises](https://www.kaggle.com/pistak/pandas-tutorial-with-interactive-exercises)"
      ]
    },
    {
      "cell_type": "code",
      "metadata": {
        "id": "2mpGSeRlx5po"
      },
      "source": [
        "import pandas as pd\n",
        "import numpy as np\n",
        "import matplotlib.pyplot as plt\n",
        "# %matplotlib inline  # work for Jupyter notebook or lab "
      ],
      "execution_count": 1,
      "outputs": []
    },
    {
      "cell_type": "markdown",
      "metadata": {
        "id": "wVggU4M_x5pu"
      },
      "source": [
        "## [1] Make data: Series, and DataFrame\n",
        "> pandas의 데이터 구조\n",
        "- Series\n",
        "- DataFrame"
      ]
    },
    {
      "cell_type": "markdown",
      "metadata": {
        "id": "oxdFPafwx5px"
      },
      "source": [
        "### Series\n",
        "> 1차원 데이터"
      ]
    },
    {
      "cell_type": "code",
      "metadata": {
        "id": "xRxrSgqXx5pz",
        "colab": {
          "base_uri": "https://localhost:8080/"
        },
        "outputId": "1110c2a3-52d8-41d2-9e01-d995226e582e"
      },
      "source": [
        "# Creating a Series by passing a list of values\n",
        "s = pd.Series([1,3,5,np.nan,6,8,'you']) # nan -> not a number\n",
        "s"
      ],
      "execution_count": 2,
      "outputs": [
        {
          "output_type": "execute_result",
          "data": {
            "text/plain": [
              "0      1\n",
              "1      3\n",
              "2      5\n",
              "3    NaN\n",
              "4      6\n",
              "5      8\n",
              "6    you\n",
              "dtype: object"
            ]
          },
          "metadata": {},
          "execution_count": 2
        }
      ]
    },
    {
      "cell_type": "code",
      "metadata": {
        "id": "-VKGygV5HLFj",
        "colab": {
          "base_uri": "https://localhost:8080/"
        },
        "outputId": "a9f19226-023e-486e-d4a2-ca3d0a604097"
      },
      "source": [
        "type(s)"
      ],
      "execution_count": 3,
      "outputs": [
        {
          "output_type": "execute_result",
          "data": {
            "text/plain": [
              "pandas.core.series.Series"
            ]
          },
          "metadata": {},
          "execution_count": 3
        }
      ]
    },
    {
      "cell_type": "code",
      "metadata": {
        "id": "WNpCNq-nsNsN"
      },
      "source": [
        "# s.info()"
      ],
      "execution_count": 4,
      "outputs": []
    },
    {
      "cell_type": "code",
      "metadata": {
        "id": "J-y9MP02Fj_I",
        "colab": {
          "base_uri": "https://localhost:8080/"
        },
        "outputId": "baf8d118-e41b-45d6-b4ec-21a228469d95"
      },
      "source": [
        "# indexing & slicing of series\n",
        "s[0],s[:3],s[-1:]"
      ],
      "execution_count": 5,
      "outputs": [
        {
          "output_type": "execute_result",
          "data": {
            "text/plain": [
              "(1, 0    1\n",
              " 1    3\n",
              " 2    5\n",
              " dtype: object, 6    you\n",
              " dtype: object)"
            ]
          },
          "metadata": {},
          "execution_count": 5
        }
      ]
    },
    {
      "cell_type": "markdown",
      "metadata": {
        "id": "_SjJQv5_G2VK"
      },
      "source": [
        "### 1차원 series의 용도\n",
        "- 2차원 데이터프레임의 열을 구성"
      ]
    },
    {
      "cell_type": "code",
      "metadata": {
        "id": "w2eNkCfLx5p-",
        "colab": {
          "base_uri": "https://localhost:8080/"
        },
        "outputId": "08b44a24-6a97-474b-943f-dbbc4161ad70"
      },
      "source": [
        "# Creating a DataFrame by passing a NumPy array, with a datetime index and labeled columns:\n",
        "dates = pd.date_range('20210927', periods=6)\n",
        "dates"
      ],
      "execution_count": 6,
      "outputs": [
        {
          "output_type": "execute_result",
          "data": {
            "text/plain": [
              "DatetimeIndex(['2021-09-27', '2021-09-28', '2021-09-29', '2021-09-30',\n",
              "               '2021-10-01', '2021-10-02'],\n",
              "              dtype='datetime64[ns]', freq='D')"
            ]
          },
          "metadata": {},
          "execution_count": 6
        }
      ]
    },
    {
      "cell_type": "code",
      "metadata": {
        "colab": {
          "base_uri": "https://localhost:8080/"
        },
        "id": "EDKPWXUGtGei",
        "outputId": "ec5b191f-d254-4ca8-d80d-791be8446b46"
      },
      "source": [
        "type(dates)"
      ],
      "execution_count": 7,
      "outputs": [
        {
          "output_type": "execute_result",
          "data": {
            "text/plain": [
              "pandas.core.indexes.datetimes.DatetimeIndex"
            ]
          },
          "metadata": {},
          "execution_count": 7
        }
      ]
    },
    {
      "cell_type": "code",
      "metadata": {
        "id": "VEcy-NoUx5qC",
        "colab": {
          "base_uri": "https://localhost:8080/",
          "height": 235
        },
        "outputId": "469113b9-d569-4337-ca26-249ff3aeb895"
      },
      "source": [
        "# Make dataframe using an array with random numbers\n",
        "df = pd.DataFrame(np.random.randn(6,4), columns=list('ABCD'), index=dates)\n",
        "df"
      ],
      "execution_count": 9,
      "outputs": [
        {
          "output_type": "execute_result",
          "data": {
            "text/html": [
              "<div>\n",
              "<style scoped>\n",
              "    .dataframe tbody tr th:only-of-type {\n",
              "        vertical-align: middle;\n",
              "    }\n",
              "\n",
              "    .dataframe tbody tr th {\n",
              "        vertical-align: top;\n",
              "    }\n",
              "\n",
              "    .dataframe thead th {\n",
              "        text-align: right;\n",
              "    }\n",
              "</style>\n",
              "<table border=\"1\" class=\"dataframe\">\n",
              "  <thead>\n",
              "    <tr style=\"text-align: right;\">\n",
              "      <th></th>\n",
              "      <th>A</th>\n",
              "      <th>B</th>\n",
              "      <th>C</th>\n",
              "      <th>D</th>\n",
              "    </tr>\n",
              "  </thead>\n",
              "  <tbody>\n",
              "    <tr>\n",
              "      <th>2021-09-27</th>\n",
              "      <td>1.769360</td>\n",
              "      <td>-1.489457</td>\n",
              "      <td>-0.967809</td>\n",
              "      <td>2.379893</td>\n",
              "    </tr>\n",
              "    <tr>\n",
              "      <th>2021-09-28</th>\n",
              "      <td>-0.254976</td>\n",
              "      <td>1.037182</td>\n",
              "      <td>0.762268</td>\n",
              "      <td>-0.219935</td>\n",
              "    </tr>\n",
              "    <tr>\n",
              "      <th>2021-09-29</th>\n",
              "      <td>2.622583</td>\n",
              "      <td>-0.452775</td>\n",
              "      <td>0.635170</td>\n",
              "      <td>0.531927</td>\n",
              "    </tr>\n",
              "    <tr>\n",
              "      <th>2021-09-30</th>\n",
              "      <td>-0.951995</td>\n",
              "      <td>0.423459</td>\n",
              "      <td>-1.785004</td>\n",
              "      <td>-0.645271</td>\n",
              "    </tr>\n",
              "    <tr>\n",
              "      <th>2021-10-01</th>\n",
              "      <td>0.791675</td>\n",
              "      <td>-1.430005</td>\n",
              "      <td>-0.035258</td>\n",
              "      <td>-1.104587</td>\n",
              "    </tr>\n",
              "    <tr>\n",
              "      <th>2021-10-02</th>\n",
              "      <td>0.281199</td>\n",
              "      <td>0.058208</td>\n",
              "      <td>0.532736</td>\n",
              "      <td>0.828334</td>\n",
              "    </tr>\n",
              "  </tbody>\n",
              "</table>\n",
              "</div>"
            ],
            "text/plain": [
              "                   A         B         C         D\n",
              "2021-09-27  1.769360 -1.489457 -0.967809  2.379893\n",
              "2021-09-28 -0.254976  1.037182  0.762268 -0.219935\n",
              "2021-09-29  2.622583 -0.452775  0.635170  0.531927\n",
              "2021-09-30 -0.951995  0.423459 -1.785004 -0.645271\n",
              "2021-10-01  0.791675 -1.430005 -0.035258 -1.104587\n",
              "2021-10-02  0.281199  0.058208  0.532736  0.828334"
            ]
          },
          "metadata": {},
          "execution_count": 9
        }
      ]
    },
    {
      "cell_type": "code",
      "metadata": {
        "id": "QvapCPFIx5qJ",
        "colab": {
          "base_uri": "https://localhost:8080/"
        },
        "outputId": "ee35b5cb-1552-494a-b9d6-8854344a0bdb"
      },
      "source": [
        "# check types of df  --> same type\n",
        "df.dtypes"
      ],
      "execution_count": 11,
      "outputs": [
        {
          "output_type": "execute_result",
          "data": {
            "text/plain": [
              "A    float64\n",
              "B    float64\n",
              "C    float64\n",
              "D    float64\n",
              "dtype: object"
            ]
          },
          "metadata": {},
          "execution_count": 11
        }
      ]
    },
    {
      "cell_type": "code",
      "metadata": {
        "id": "2owJW3g_HWiK",
        "colab": {
          "base_uri": "https://localhost:8080/"
        },
        "outputId": "050313a1-b9f1-4641-87d3-d3fe175179db"
      },
      "source": [
        "type(df)"
      ],
      "execution_count": 10,
      "outputs": [
        {
          "output_type": "execute_result",
          "data": {
            "text/plain": [
              "pandas.core.frame.DataFrame"
            ]
          },
          "metadata": {},
          "execution_count": 10
        }
      ]
    },
    {
      "cell_type": "markdown",
      "metadata": {
        "id": "VuRGk7M54L9h"
      },
      "source": [
        "### 데이터프레임 (DataFrame)\n",
        "- 2차원 데이터\n",
        "- 다차원 데이터"
      ]
    },
    {
      "cell_type": "code",
      "metadata": {
        "id": "qoenpcW1x5qP"
      },
      "source": [
        "# Creating a DataFrame by passing a dict of objects that can be converted to series-like.\n",
        "df2 = pd.DataFrame({ 'A' : 1., \n",
        "                    'B' : pd.Timestamp('20191129'),\n",
        "                    'C' : pd.Series(1,index=list(range(4)),dtype='float32'),\n",
        "                    'D' : np.array([3] * 4,dtype='int32'),\n",
        "                    'E' : pd.Categorical([\"test\",\"train\",\"test\",\"train\"]),\n",
        "                    'F' : 'foo' })"
      ],
      "execution_count": 12,
      "outputs": []
    },
    {
      "cell_type": "code",
      "metadata": {
        "id": "7mNvQLkzx5qW",
        "colab": {
          "base_uri": "https://localhost:8080/",
          "height": 173
        },
        "outputId": "5d2524ca-289c-4a01-a91f-cde37a62ece1"
      },
      "source": [
        "df2"
      ],
      "execution_count": 13,
      "outputs": [
        {
          "output_type": "execute_result",
          "data": {
            "text/html": [
              "<div>\n",
              "<style scoped>\n",
              "    .dataframe tbody tr th:only-of-type {\n",
              "        vertical-align: middle;\n",
              "    }\n",
              "\n",
              "    .dataframe tbody tr th {\n",
              "        vertical-align: top;\n",
              "    }\n",
              "\n",
              "    .dataframe thead th {\n",
              "        text-align: right;\n",
              "    }\n",
              "</style>\n",
              "<table border=\"1\" class=\"dataframe\">\n",
              "  <thead>\n",
              "    <tr style=\"text-align: right;\">\n",
              "      <th></th>\n",
              "      <th>A</th>\n",
              "      <th>B</th>\n",
              "      <th>C</th>\n",
              "      <th>D</th>\n",
              "      <th>E</th>\n",
              "      <th>F</th>\n",
              "    </tr>\n",
              "  </thead>\n",
              "  <tbody>\n",
              "    <tr>\n",
              "      <th>0</th>\n",
              "      <td>1.0</td>\n",
              "      <td>2019-11-29</td>\n",
              "      <td>1.0</td>\n",
              "      <td>3</td>\n",
              "      <td>test</td>\n",
              "      <td>foo</td>\n",
              "    </tr>\n",
              "    <tr>\n",
              "      <th>1</th>\n",
              "      <td>1.0</td>\n",
              "      <td>2019-11-29</td>\n",
              "      <td>1.0</td>\n",
              "      <td>3</td>\n",
              "      <td>train</td>\n",
              "      <td>foo</td>\n",
              "    </tr>\n",
              "    <tr>\n",
              "      <th>2</th>\n",
              "      <td>1.0</td>\n",
              "      <td>2019-11-29</td>\n",
              "      <td>1.0</td>\n",
              "      <td>3</td>\n",
              "      <td>test</td>\n",
              "      <td>foo</td>\n",
              "    </tr>\n",
              "    <tr>\n",
              "      <th>3</th>\n",
              "      <td>1.0</td>\n",
              "      <td>2019-11-29</td>\n",
              "      <td>1.0</td>\n",
              "      <td>3</td>\n",
              "      <td>train</td>\n",
              "      <td>foo</td>\n",
              "    </tr>\n",
              "  </tbody>\n",
              "</table>\n",
              "</div>"
            ],
            "text/plain": [
              "     A          B    C  D      E    F\n",
              "0  1.0 2019-11-29  1.0  3   test  foo\n",
              "1  1.0 2019-11-29  1.0  3  train  foo\n",
              "2  1.0 2019-11-29  1.0  3   test  foo\n",
              "3  1.0 2019-11-29  1.0  3  train  foo"
            ]
          },
          "metadata": {},
          "execution_count": 13
        }
      ]
    },
    {
      "cell_type": "code",
      "metadata": {
        "id": "5PZ6-5MAx5qc",
        "colab": {
          "base_uri": "https://localhost:8080/"
        },
        "outputId": "51f75b46-ecbd-4aae-8a45-cc1ab263fcc6"
      },
      "source": [
        "# check types of df2 --> different types\n",
        "df2.dtypes"
      ],
      "execution_count": 14,
      "outputs": [
        {
          "output_type": "execute_result",
          "data": {
            "text/plain": [
              "A           float64\n",
              "B    datetime64[ns]\n",
              "C           float32\n",
              "D             int32\n",
              "E          category\n",
              "F            object\n",
              "dtype: object"
            ]
          },
          "metadata": {},
          "execution_count": 14
        }
      ]
    },
    {
      "cell_type": "code",
      "metadata": {
        "id": "U6eLrDFkIGBJ",
        "colab": {
          "base_uri": "https://localhost:8080/"
        },
        "outputId": "b3918399-192a-4b26-ec27-c0200caaeffb"
      },
      "source": [
        "type(df2)"
      ],
      "execution_count": 15,
      "outputs": [
        {
          "output_type": "execute_result",
          "data": {
            "text/plain": [
              "pandas.core.frame.DataFrame"
            ]
          },
          "metadata": {},
          "execution_count": 15
        }
      ]
    },
    {
      "cell_type": "markdown",
      "metadata": {
        "id": "wq1nIp3F1fFB"
      },
      "source": [
        "\n",
        "\n",
        "---\n",
        "\n"
      ]
    }
  ]
}